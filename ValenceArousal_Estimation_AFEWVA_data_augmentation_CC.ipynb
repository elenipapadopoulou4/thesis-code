{
  "cells": [
    {
      "cell_type": "markdown",
      "metadata": {
        "id": "view-in-github",
        "colab_type": "text"
      },
      "source": [
        "<a href=\"https://colab.research.google.com/github/elenipapadopoulou4/thesis-code/blob/main/ValenceArousal_Estimation_AFEWVA_data_augmentation_CC.ipynb\" target=\"_parent\"><img src=\"https://colab.research.google.com/assets/colab-badge.svg\" alt=\"Open In Colab\"/></a>"
      ]
    },
    {
      "cell_type": "markdown",
      "metadata": {
        "id": "iHLdvfiQM9vC"
      },
      "source": [
        "#Train RESNET network on AFEW-VA dataset for Valence & Arousal "
      ]
    },
    {
      "cell_type": "markdown",
      "metadata": {
        "id": "fsOkUbOpajyN"
      },
      "source": [
        "Τα valence και arousal είναι συνεχείς και λαμβάνουν τιμές απο [-1,1]  <br>\n",
        "\n",
        "\n",
        "valence -- > δείχνει πόσο θετικό/αρνητικό είναι το συναίσθημα που απεικονίζεται\n",
        "\n",
        "arousal -- > δείχνει πόσο ενεργητική/παθητική είναι η συναισθηματική κατάσταση"
      ]
    },
    {
      "cell_type": "code",
      "source": [
        "!pip install tensorflow==2.8\n",
        "!apt install --allow-change-held-packages libcudnn8=8.1.0.77-1+cuda11.2"
      ],
      "metadata": {
        "id": "ZfYuRfvkT09X"
      },
      "execution_count": null,
      "outputs": []
    },
    {
      "cell_type": "code",
      "execution_count": null,
      "metadata": {
        "id": "hshLCeYjhLL1"
      },
      "outputs": [],
      "source": [
        "import tensorflow as tf\n",
        "\n",
        "import os \n",
        "import matplotlib.pyplot as plt\n",
        "\n",
        "import numpy as np\n",
        "from tabulate import tabulate\n",
        "\n",
        "\n",
        "from tensorflow.keras.models import Sequential\n",
        "from tensorflow.keras.layers import Dense,Flatten,GlobalAveragePooling2D,Dropout\n",
        "\n",
        "\n",
        "from tensorflow.keras.optimizers import Adam,SGD,RMSprop\n",
        "from tensorflow.keras.preprocessing.image import ImageDataGenerator\n",
        "from tensorflow.keras.layers import Dropout\n",
        "from tensorflow.keras.callbacks import ModelCheckpoint \n",
        "\n",
        "import matplotlib.image as mpimg\n",
        "\n",
        "from keras.models import model_from_json\n",
        "import json\n",
        "\n",
        "from keras import backend as K\n",
        "\n",
        "import pandas as pd\n",
        "\n",
        "from PIL import Image\n",
        "\n",
        "from sklearn.model_selection import train_test_split\n",
        "from sklearn.metrics import mean_squared_error,mean_absolute_error\n",
        "from scipy.stats import pearsonr\n",
        "\n",
        "import statistics\n",
        "\n",
        "import joblib\n",
        "\n",
        "import scipy\n",
        "\n",
        "import pickle\n"
      ]
    },
    {
      "cell_type": "code",
      "execution_count": null,
      "metadata": {
        "id": "-AXHXZNHhY2r",
        "colab": {
          "base_uri": "https://localhost:8080/"
        },
        "outputId": "8c13480a-4fb2-4ac3-c735-7fef38c6e47e"
      },
      "outputs": [
        {
          "output_type": "stream",
          "name": "stdout",
          "text": [
            "Drive already mounted at /content/gdrive; to attempt to forcibly remount, call drive.mount(\"/content/gdrive\", force_remount=True).\n"
          ]
        }
      ],
      "source": [
        "from google.colab import drive\n",
        "drive.mount(\"/content/gdrive\")"
      ]
    },
    {
      "cell_type": "code",
      "source": [
        "!unzip  /content/gdrive/MyDrive/train_net/datasets/AFEW-VA/AFEW-VA_aligned.zip -d /content"
      ],
      "metadata": {
        "id": "K21xTQLa7uFM"
      },
      "execution_count": null,
      "outputs": []
    },
    {
      "cell_type": "code",
      "execution_count": null,
      "metadata": {
        "id": "mZc8cATq5b1O"
      },
      "outputs": [],
      "source": [
        "dataset_path = '/content/AFEW-VA_aligned'\n",
        "annotations_path = '/content/AFEW-VA_aligned/afew_va_annots.txt'\n",
        "ff_outputs = '/content/gdrive/MyDrive/train_net/FairFace/AFEW-VA_outputs.csv'"
      ]
    },
    {
      "cell_type": "markdown",
      "source": [
        "## Create dataframe"
      ],
      "metadata": {
        "id": "7Gr0uU-y0Fp0"
      }
    },
    {
      "cell_type": "markdown",
      "source": [
        "FairFace outputs"
      ],
      "metadata": {
        "id": "UqyjyVwtygBb"
      }
    },
    {
      "cell_type": "code",
      "source": [
        "df_ff =  pd.read_csv(ff_outputs)\n",
        "df_ff = df_ff.drop(['race','race_scores_fair','race_scores_fair_4','gender_scores_fair','age_scores_fair'],axis=1)\n",
        "df_ff = df_ff.rename(columns={\"race4\": \"race\"})\n"
      ],
      "metadata": {
        "id": "Wz8q-GfD0Xa2"
      },
      "execution_count": null,
      "outputs": []
    },
    {
      "cell_type": "code",
      "source": [
        "#avoid double values  \n",
        "#rename with directory path\n",
        "paths = [] #list with all names of paths\n",
        "for i, row in enumerate(df_ff['face_name_align']):\n",
        "  dir_image = (row[row.rfind('/')+1:row.rfind('face')-1])+'.jpg'\n",
        "  dir = dir_image[:dir_image.find('_')]\n",
        "  image = dir_image[dir_image.find('_')+1:]\n",
        "  path_name = os.path.join(dataset_path,dir,image)\n",
        "\n",
        "  if (path_name in paths):\n",
        "     df_ff.drop([i], axis=0, inplace=True)\n",
        "  else:\n",
        "     df_ff['face_name_align'][i] = path_name\n",
        "     paths.append(path_name)"
      ],
      "metadata": {
        "id": "aeY0zCXq4Pmw"
      },
      "execution_count": null,
      "outputs": []
    },
    {
      "cell_type": "markdown",
      "source": [
        "annotations"
      ],
      "metadata": {
        "id": "QHHgQCTi2YHs"
      }
    },
    {
      "cell_type": "code",
      "source": [
        "# read annotations txt and convert to pandas dataframe\n",
        "df =  pd.read_csv(annotations_path,sep=\" \",header=None)\n",
        "df.columns =['face_name_align', 'valence', 'arousal']"
      ],
      "metadata": {
        "id": "w8B0xCyb-6Es"
      },
      "execution_count": null,
      "outputs": []
    },
    {
      "cell_type": "code",
      "source": [
        "for i, row in df.iterrows():\n",
        "  image_path = df['face_name_align'][i][-13:]\n",
        "  df.loc[i,'face_name_align'] = os.path.join(dataset_path,image_path)\n"
      ],
      "metadata": {
        "id": "CGE5L0ER_Opc"
      },
      "execution_count": null,
      "outputs": []
    },
    {
      "cell_type": "code",
      "source": [
        "df_all = (pd.merge(df, df_ff, on='face_name_align'))\n",
        "print(\"lenght of  data\",len(df_all))\n"
      ],
      "metadata": {
        "id": "JeETE4T5yut2"
      },
      "execution_count": null,
      "outputs": []
    },
    {
      "cell_type": "markdown",
      "source": [
        "# Before Split"
      ],
      "metadata": {
        "id": "1YM1bUIp9-t6"
      }
    },
    {
      "cell_type": "code",
      "source": [
        "#joblib.dump(df_all,'/content/gdrive/MyDrive/train_net/afewva_df_all')\n",
        "df_all = joblib.load('/content/gdrive/MyDrive/train_net/afewva_df_all')\n"
      ],
      "metadata": {
        "id": "xV079r6izmjJ"
      },
      "execution_count": null,
      "outputs": []
    },
    {
      "cell_type": "code",
      "source": [
        "df_all"
      ],
      "metadata": {
        "colab": {
          "base_uri": "https://localhost:8080/",
          "height": 424
        },
        "id": "VIocJdlR0ANj",
        "outputId": "e0d5939f-74cf-46f3-cd5f-43db4b694778"
      },
      "execution_count": null,
      "outputs": [
        {
          "output_type": "execute_result",
          "data": {
            "text/plain": [
              "                              face_name_align  valence  arousal   race gender  \\\n",
              "0      /content/AFEW-VA_aligned/001/00000.jpg      0.0      0.5  White   Male   \n",
              "1      /content/AFEW-VA_aligned/001/00001.jpg      0.0      0.5  White   Male   \n",
              "2      /content/AFEW-VA_aligned/001/00002.jpg      0.0      0.5  White   Male   \n",
              "3      /content/AFEW-VA_aligned/001/00003.jpg      0.0      0.5  White   Male   \n",
              "4      /content/AFEW-VA_aligned/001/00004.jpg      0.0      0.5  White   Male   \n",
              "...                                       ...      ...      ...    ...    ...   \n",
              "12152  /content/AFEW-VA_aligned/241/00084.jpg      0.2      0.3  White   Male   \n",
              "12153  /content/AFEW-VA_aligned/241/00085.jpg      0.2      0.3  White   Male   \n",
              "12154  /content/AFEW-VA_aligned/241/00086.jpg      0.2      0.3  White   Male   \n",
              "12155  /content/AFEW-VA_aligned/241/00087.jpg      0.2      0.3  White   Male   \n",
              "12156  /content/AFEW-VA_aligned/241/00088.jpg      0.2      0.3  White   Male   \n",
              "\n",
              "         age  \n",
              "0      20-29  \n",
              "1      20-29  \n",
              "2      20-29  \n",
              "3      20-29  \n",
              "4      20-29  \n",
              "...      ...  \n",
              "12152  20-29  \n",
              "12153  20-29  \n",
              "12154  20-29  \n",
              "12155  20-29  \n",
              "12156  20-29  \n",
              "\n",
              "[12157 rows x 6 columns]"
            ],
            "text/html": [
              "\n",
              "  <div id=\"df-bc527004-b96c-4fe1-b42a-3cf6c661aa04\">\n",
              "    <div class=\"colab-df-container\">\n",
              "      <div>\n",
              "<style scoped>\n",
              "    .dataframe tbody tr th:only-of-type {\n",
              "        vertical-align: middle;\n",
              "    }\n",
              "\n",
              "    .dataframe tbody tr th {\n",
              "        vertical-align: top;\n",
              "    }\n",
              "\n",
              "    .dataframe thead th {\n",
              "        text-align: right;\n",
              "    }\n",
              "</style>\n",
              "<table border=\"1\" class=\"dataframe\">\n",
              "  <thead>\n",
              "    <tr style=\"text-align: right;\">\n",
              "      <th></th>\n",
              "      <th>face_name_align</th>\n",
              "      <th>valence</th>\n",
              "      <th>arousal</th>\n",
              "      <th>race</th>\n",
              "      <th>gender</th>\n",
              "      <th>age</th>\n",
              "    </tr>\n",
              "  </thead>\n",
              "  <tbody>\n",
              "    <tr>\n",
              "      <th>0</th>\n",
              "      <td>/content/AFEW-VA_aligned/001/00000.jpg</td>\n",
              "      <td>0.0</td>\n",
              "      <td>0.5</td>\n",
              "      <td>White</td>\n",
              "      <td>Male</td>\n",
              "      <td>20-29</td>\n",
              "    </tr>\n",
              "    <tr>\n",
              "      <th>1</th>\n",
              "      <td>/content/AFEW-VA_aligned/001/00001.jpg</td>\n",
              "      <td>0.0</td>\n",
              "      <td>0.5</td>\n",
              "      <td>White</td>\n",
              "      <td>Male</td>\n",
              "      <td>20-29</td>\n",
              "    </tr>\n",
              "    <tr>\n",
              "      <th>2</th>\n",
              "      <td>/content/AFEW-VA_aligned/001/00002.jpg</td>\n",
              "      <td>0.0</td>\n",
              "      <td>0.5</td>\n",
              "      <td>White</td>\n",
              "      <td>Male</td>\n",
              "      <td>20-29</td>\n",
              "    </tr>\n",
              "    <tr>\n",
              "      <th>3</th>\n",
              "      <td>/content/AFEW-VA_aligned/001/00003.jpg</td>\n",
              "      <td>0.0</td>\n",
              "      <td>0.5</td>\n",
              "      <td>White</td>\n",
              "      <td>Male</td>\n",
              "      <td>20-29</td>\n",
              "    </tr>\n",
              "    <tr>\n",
              "      <th>4</th>\n",
              "      <td>/content/AFEW-VA_aligned/001/00004.jpg</td>\n",
              "      <td>0.0</td>\n",
              "      <td>0.5</td>\n",
              "      <td>White</td>\n",
              "      <td>Male</td>\n",
              "      <td>20-29</td>\n",
              "    </tr>\n",
              "    <tr>\n",
              "      <th>...</th>\n",
              "      <td>...</td>\n",
              "      <td>...</td>\n",
              "      <td>...</td>\n",
              "      <td>...</td>\n",
              "      <td>...</td>\n",
              "      <td>...</td>\n",
              "    </tr>\n",
              "    <tr>\n",
              "      <th>12152</th>\n",
              "      <td>/content/AFEW-VA_aligned/241/00084.jpg</td>\n",
              "      <td>0.2</td>\n",
              "      <td>0.3</td>\n",
              "      <td>White</td>\n",
              "      <td>Male</td>\n",
              "      <td>20-29</td>\n",
              "    </tr>\n",
              "    <tr>\n",
              "      <th>12153</th>\n",
              "      <td>/content/AFEW-VA_aligned/241/00085.jpg</td>\n",
              "      <td>0.2</td>\n",
              "      <td>0.3</td>\n",
              "      <td>White</td>\n",
              "      <td>Male</td>\n",
              "      <td>20-29</td>\n",
              "    </tr>\n",
              "    <tr>\n",
              "      <th>12154</th>\n",
              "      <td>/content/AFEW-VA_aligned/241/00086.jpg</td>\n",
              "      <td>0.2</td>\n",
              "      <td>0.3</td>\n",
              "      <td>White</td>\n",
              "      <td>Male</td>\n",
              "      <td>20-29</td>\n",
              "    </tr>\n",
              "    <tr>\n",
              "      <th>12155</th>\n",
              "      <td>/content/AFEW-VA_aligned/241/00087.jpg</td>\n",
              "      <td>0.2</td>\n",
              "      <td>0.3</td>\n",
              "      <td>White</td>\n",
              "      <td>Male</td>\n",
              "      <td>20-29</td>\n",
              "    </tr>\n",
              "    <tr>\n",
              "      <th>12156</th>\n",
              "      <td>/content/AFEW-VA_aligned/241/00088.jpg</td>\n",
              "      <td>0.2</td>\n",
              "      <td>0.3</td>\n",
              "      <td>White</td>\n",
              "      <td>Male</td>\n",
              "      <td>20-29</td>\n",
              "    </tr>\n",
              "  </tbody>\n",
              "</table>\n",
              "<p>12157 rows × 6 columns</p>\n",
              "</div>\n",
              "      <button class=\"colab-df-convert\" onclick=\"convertToInteractive('df-bc527004-b96c-4fe1-b42a-3cf6c661aa04')\"\n",
              "              title=\"Convert this dataframe to an interactive table.\"\n",
              "              style=\"display:none;\">\n",
              "        \n",
              "  <svg xmlns=\"http://www.w3.org/2000/svg\" height=\"24px\"viewBox=\"0 0 24 24\"\n",
              "       width=\"24px\">\n",
              "    <path d=\"M0 0h24v24H0V0z\" fill=\"none\"/>\n",
              "    <path d=\"M18.56 5.44l.94 2.06.94-2.06 2.06-.94-2.06-.94-.94-2.06-.94 2.06-2.06.94zm-11 1L8.5 8.5l.94-2.06 2.06-.94-2.06-.94L8.5 2.5l-.94 2.06-2.06.94zm10 10l.94 2.06.94-2.06 2.06-.94-2.06-.94-.94-2.06-.94 2.06-2.06.94z\"/><path d=\"M17.41 7.96l-1.37-1.37c-.4-.4-.92-.59-1.43-.59-.52 0-1.04.2-1.43.59L10.3 9.45l-7.72 7.72c-.78.78-.78 2.05 0 2.83L4 21.41c.39.39.9.59 1.41.59.51 0 1.02-.2 1.41-.59l7.78-7.78 2.81-2.81c.8-.78.8-2.07 0-2.86zM5.41 20L4 18.59l7.72-7.72 1.47 1.35L5.41 20z\"/>\n",
              "  </svg>\n",
              "      </button>\n",
              "      \n",
              "  <style>\n",
              "    .colab-df-container {\n",
              "      display:flex;\n",
              "      flex-wrap:wrap;\n",
              "      gap: 12px;\n",
              "    }\n",
              "\n",
              "    .colab-df-convert {\n",
              "      background-color: #E8F0FE;\n",
              "      border: none;\n",
              "      border-radius: 50%;\n",
              "      cursor: pointer;\n",
              "      display: none;\n",
              "      fill: #1967D2;\n",
              "      height: 32px;\n",
              "      padding: 0 0 0 0;\n",
              "      width: 32px;\n",
              "    }\n",
              "\n",
              "    .colab-df-convert:hover {\n",
              "      background-color: #E2EBFA;\n",
              "      box-shadow: 0px 1px 2px rgba(60, 64, 67, 0.3), 0px 1px 3px 1px rgba(60, 64, 67, 0.15);\n",
              "      fill: #174EA6;\n",
              "    }\n",
              "\n",
              "    [theme=dark] .colab-df-convert {\n",
              "      background-color: #3B4455;\n",
              "      fill: #D2E3FC;\n",
              "    }\n",
              "\n",
              "    [theme=dark] .colab-df-convert:hover {\n",
              "      background-color: #434B5C;\n",
              "      box-shadow: 0px 1px 3px 1px rgba(0, 0, 0, 0.15);\n",
              "      filter: drop-shadow(0px 1px 2px rgba(0, 0, 0, 0.3));\n",
              "      fill: #FFFFFF;\n",
              "    }\n",
              "  </style>\n",
              "\n",
              "      <script>\n",
              "        const buttonEl =\n",
              "          document.querySelector('#df-bc527004-b96c-4fe1-b42a-3cf6c661aa04 button.colab-df-convert');\n",
              "        buttonEl.style.display =\n",
              "          google.colab.kernel.accessAllowed ? 'block' : 'none';\n",
              "\n",
              "        async function convertToInteractive(key) {\n",
              "          const element = document.querySelector('#df-bc527004-b96c-4fe1-b42a-3cf6c661aa04');\n",
              "          const dataTable =\n",
              "            await google.colab.kernel.invokeFunction('convertToInteractive',\n",
              "                                                     [key], {});\n",
              "          if (!dataTable) return;\n",
              "\n",
              "          const docLinkHtml = 'Like what you see? Visit the ' +\n",
              "            '<a target=\"_blank\" href=https://colab.research.google.com/notebooks/data_table.ipynb>data table notebook</a>'\n",
              "            + ' to learn more about interactive tables.';\n",
              "          element.innerHTML = '';\n",
              "          dataTable['output_type'] = 'display_data';\n",
              "          await google.colab.output.renderOutput(dataTable, element);\n",
              "          const docLink = document.createElement('div');\n",
              "          docLink.innerHTML = docLinkHtml;\n",
              "          element.appendChild(docLink);\n",
              "        }\n",
              "      </script>\n",
              "    </div>\n",
              "  </div>\n",
              "  "
            ]
          },
          "metadata": {},
          "execution_count": 6
        }
      ]
    },
    {
      "cell_type": "code",
      "source": [
        "#create video column\n",
        "def get_video_from_filename(row):\n",
        "    filename = row['face_name_align']\n",
        "    video_name = (filename[filename.find('/',10)+1:filename.find('/',10)+4])\n",
        "    return video_name\n",
        "#create frames column\n",
        "def add_frames(row):\n",
        "  for video,num_frames in frames.items():\n",
        "    if row['video'] == video:\n",
        "      return num_frames\n"
      ],
      "metadata": {
        "id": "ZRpXJiUsOZlZ"
      },
      "execution_count": null,
      "outputs": []
    },
    {
      "cell_type": "code",
      "source": [
        "df_all['video'] = df_all.apply(lambda row: get_video_from_filename(row), axis=1)\n",
        "frames = ((df_all.groupby(['video']).count())['face_name_align']).to_dict()\n",
        "df_all['frames'] = df_all.apply(lambda row: add_frames(row), axis=1)\n"
      ],
      "metadata": {
        "id": "GDgr2pC1zyRK"
      },
      "execution_count": null,
      "outputs": []
    },
    {
      "cell_type": "code",
      "source": [
        "all_videos = df_all.video.unique()\n"
      ],
      "metadata": {
        "id": "eC3w8QGV0gIx"
      },
      "execution_count": null,
      "outputs": []
    },
    {
      "cell_type": "code",
      "source": [
        "len(all_videos)"
      ],
      "metadata": {
        "colab": {
          "base_uri": "https://localhost:8080/"
        },
        "id": "EKYC2SU_0j6j",
        "outputId": "9262ebff-4eb7-4ceb-941c-02b0839dfed8"
      },
      "execution_count": null,
      "outputs": [
        {
          "output_type": "execute_result",
          "data": {
            "text/plain": [
              "246"
            ]
          },
          "metadata": {},
          "execution_count": 10
        }
      ]
    },
    {
      "cell_type": "code",
      "source": [
        "#keep RACE-GENDER-AGE values the same for each video\n",
        "all_videos = df_all.video.unique()\n",
        "for video in all_videos:\n",
        "\n",
        "  #find most frequent value for each category\n",
        "\n",
        "  gender = df_all[df_all.video == video]['gender'].mode()[0]\n",
        "  race = df_all[df_all.video == video]['race'].mode()[0]\n",
        "  age = df_all[df_all.video == video]['age'].mode()[0]\n",
        "  \n",
        "  \n",
        "  #replace all values with most frequent\n",
        "  df_all.loc[df_all.video == video,'gender'] = gender\n",
        "  df_all.loc[df_all.video == video,'race'] = race\n",
        "  df_all.loc[df_all.video == video,'age'] = age\n",
        "\n",
        "\n"
      ],
      "metadata": {
        "id": "t6G_ShJjRfCZ"
      },
      "execution_count": null,
      "outputs": []
    },
    {
      "cell_type": "markdown",
      "metadata": {
        "id": "QRz9-rHH3mIO"
      },
      "source": [
        "##Show data"
      ]
    },
    {
      "cell_type": "code",
      "execution_count": null,
      "metadata": {
        "colab": {
          "base_uri": "https://localhost:8080/",
          "height": 313
        },
        "id": "u3ppm9fzVnn6",
        "outputId": "5d54bdfc-2de7-4f06-f158-ee7ca05f7474"
      },
      "outputs": [
        {
          "output_type": "display_data",
          "data": {
            "text/plain": [
              "<Figure size 1440x288 with 5 Axes>"
            ],
            "image/png": "[encoded data removed]"
          },
          "metadata": {
            "needs_background": "light"
          }
        }
      ],
      "source": [
        "num_images = 5\n",
        "fig, axs = plt.subplots(figsize=(20, 4), ncols=num_images, constrained_layout=True)\n",
        "for i in range(num_images):\n",
        "  index = i+i*100\n",
        "  image  =  mpimg.imread(df_all['face_name_align'][i+i*100])\n",
        "  axs[i].imshow(image)  \n",
        "  axs[i].set_title('valence: {} \\n arousal: {} \\n Gender: {} \\n Race: {} \\n Age: {}'.format(df_all['valence'][index],df_all['arousal'][index],\n",
        "                                                                                            df_all['gender'][index],df_all['race'][index],df_all['age'][index]),fontsize = 20)\n",
        "  axs[i].axis(\"off\")\n",
        "\n"
      ]
    },
    {
      "cell_type": "markdown",
      "source": [
        "## train-validation-test split"
      ],
      "metadata": {
        "id": "XLjmlbHT4n2D"
      }
    },
    {
      "cell_type": "code",
      "source": [
        "def show_v_a_distribution_one(df):\n",
        "  fig,axs = plt.subplots(figsize =(7, 5),ncols=1)\n",
        "  x= df['arousal']\n",
        "  y = df['valence']\n",
        "  plt.hist2d(x, y,range =  [[-1, 1], [-1, 1]])\n",
        "  plt.xlabel('arousal', fontsize=12)\n",
        "  plt.ylabel('valence', fontsize=12)\n",
        "  plt.title(\"Distribution of all data\", fontsize=15)\n",
        "  plt.colorbar()"
      ],
      "metadata": {
        "id": "8bOmLKlN3XAp"
      },
      "execution_count": null,
      "outputs": []
    },
    {
      "cell_type": "code",
      "source": [
        "show_v_a_distribution_one(df_all)"
      ],
      "metadata": {
        "colab": {
          "base_uri": "https://localhost:8080/",
          "height": 355
        },
        "id": "_aq0Xqg_4N-J",
        "outputId": "001a790f-8069-440c-cb94-ccfefd9d595b"
      },
      "execution_count": null,
      "outputs": [
        {
          "output_type": "display_data",
          "data": {
            "text/plain": [
              "<Figure size 504x360 with 2 Axes>"
            ],
            "image/png": "[encoded data removed]"
          },
          "metadata": {
            "needs_background": "light"
          }
        }
      ]
    },
    {
      "cell_type": "code",
      "source": [
        "aggregation_functions = {'gender': 'first', 'race': 'first', 'age': 'first','video':'first','frames':'first'}\n",
        "df_videos = df_all.groupby(df_all['video']).aggregate(aggregation_functions)"
      ],
      "metadata": {
        "id": "gGocfXkuV9wu"
      },
      "execution_count": null,
      "outputs": []
    },
    {
      "cell_type": "code",
      "source": [
        "df_videos"
      ],
      "metadata": {
        "colab": {
          "base_uri": "https://localhost:8080/",
          "height": 455
        },
        "id": "EtGRAYBaWRWa",
        "outputId": "f55bbbfb-6b7b-4532-dbca-8174abb7eadc"
      },
      "execution_count": null,
      "outputs": [
        {
          "output_type": "execute_result",
          "data": {
            "text/plain": [
              "       gender   race    age video  frames\n",
              "video                                    \n",
              "001      Male  White  20-29   001      42\n",
              "002      Male  White  30-39   002      58\n",
              "003    Female  White  20-29   003      39\n",
              "004      Male  White  40-49   004      21\n",
              "005      Male  White  20-29   005      18\n",
              "...       ...    ...    ...   ...     ...\n",
              "242      Male  White  40-49   242      86\n",
              "243    Female  White  20-29   243      33\n",
              "244    Female  White  30-39   244      57\n",
              "245    Female  White  20-29   245      30\n",
              "246    Female  White  20-29   246      11\n",
              "\n",
              "[246 rows x 5 columns]"
            ],
            "text/html": [
              "\n",
              "  <div id=\"df-82bab40a-e70e-4859-9f00-4094c3a09876\">\n",
              "    <div class=\"colab-df-container\">\n",
              "      <div>\n",
              "<style scoped>\n",
              "    .dataframe tbody tr th:only-of-type {\n",
              "        vertical-align: middle;\n",
              "    }\n",
              "\n",
              "    .dataframe tbody tr th {\n",
              "        vertical-align: top;\n",
              "    }\n",
              "\n",
              "    .dataframe thead th {\n",
              "        text-align: right;\n",
              "    }\n",
              "</style>\n",
              "<table border=\"1\" class=\"dataframe\">\n",
              "  <thead>\n",
              "    <tr style=\"text-align: right;\">\n",
              "      <th></th>\n",
              "      <th>gender</th>\n",
              "      <th>race</th>\n",
              "      <th>age</th>\n",
              "      <th>video</th>\n",
              "      <th>frames</th>\n",
              "    </tr>\n",
              "    <tr>\n",
              "      <th>video</th>\n",
              "      <th></th>\n",
              "      <th></th>\n",
              "      <th></th>\n",
              "      <th></th>\n",
              "      <th></th>\n",
              "    </tr>\n",
              "  </thead>\n",
              "  <tbody>\n",
              "    <tr>\n",
              "      <th>001</th>\n",
              "      <td>Male</td>\n",
              "      <td>White</td>\n",
              "      <td>20-29</td>\n",
              "      <td>001</td>\n",
              "      <td>42</td>\n",
              "    </tr>\n",
              "    <tr>\n",
              "      <th>002</th>\n",
              "      <td>Male</td>\n",
              "      <td>White</td>\n",
              "      <td>30-39</td>\n",
              "      <td>002</td>\n",
              "      <td>58</td>\n",
              "    </tr>\n",
              "    <tr>\n",
              "      <th>003</th>\n",
              "      <td>Female</td>\n",
              "      <td>White</td>\n",
              "      <td>20-29</td>\n",
              "      <td>003</td>\n",
              "      <td>39</td>\n",
              "    </tr>\n",
              "    <tr>\n",
              "      <th>004</th>\n",
              "      <td>Male</td>\n",
              "      <td>White</td>\n",
              "      <td>40-49</td>\n",
              "      <td>004</td>\n",
              "      <td>21</td>\n",
              "    </tr>\n",
              "    <tr>\n",
              "      <th>005</th>\n",
              "      <td>Male</td>\n",
              "      <td>White</td>\n",
              "      <td>20-29</td>\n",
              "      <td>005</td>\n",
              "      <td>18</td>\n",
              "    </tr>\n",
              "    <tr>\n",
              "      <th>...</th>\n",
              "      <td>...</td>\n",
              "      <td>...</td>\n",
              "      <td>...</td>\n",
              "      <td>...</td>\n",
              "      <td>...</td>\n",
              "    </tr>\n",
              "    <tr>\n",
              "      <th>242</th>\n",
              "      <td>Male</td>\n",
              "      <td>White</td>\n",
              "      <td>40-49</td>\n",
              "      <td>242</td>\n",
              "      <td>86</td>\n",
              "    </tr>\n",
              "    <tr>\n",
              "      <th>243</th>\n",
              "      <td>Female</td>\n",
              "      <td>White</td>\n",
              "      <td>20-29</td>\n",
              "      <td>243</td>\n",
              "      <td>33</td>\n",
              "    </tr>\n",
              "    <tr>\n",
              "      <th>244</th>\n",
              "      <td>Female</td>\n",
              "      <td>White</td>\n",
              "      <td>30-39</td>\n",
              "      <td>244</td>\n",
              "      <td>57</td>\n",
              "    </tr>\n",
              "    <tr>\n",
              "      <th>245</th>\n",
              "      <td>Female</td>\n",
              "      <td>White</td>\n",
              "      <td>20-29</td>\n",
              "      <td>245</td>\n",
              "      <td>30</td>\n",
              "    </tr>\n",
              "    <tr>\n",
              "      <th>246</th>\n",
              "      <td>Female</td>\n",
              "      <td>White</td>\n",
              "      <td>20-29</td>\n",
              "      <td>246</td>\n",
              "      <td>11</td>\n",
              "    </tr>\n",
              "  </tbody>\n",
              "</table>\n",
              "<p>246 rows × 5 columns</p>\n",
              "</div>\n",
              "      <button class=\"colab-df-convert\" onclick=\"convertToInteractive('df-82bab40a-e70e-4859-9f00-4094c3a09876')\"\n",
              "              title=\"Convert this dataframe to an interactive table.\"\n",
              "              style=\"display:none;\">\n",
              "        \n",
              "  <svg xmlns=\"http://www.w3.org/2000/svg\" height=\"24px\"viewBox=\"0 0 24 24\"\n",
              "       width=\"24px\">\n",
              "    <path d=\"M0 0h24v24H0V0z\" fill=\"none\"/>\n",
              "    <path d=\"M18.56 5.44l.94 2.06.94-2.06 2.06-.94-2.06-.94-.94-2.06-.94 2.06-2.06.94zm-11 1L8.5 8.5l.94-2.06 2.06-.94-2.06-.94L8.5 2.5l-.94 2.06-2.06.94zm10 10l.94 2.06.94-2.06 2.06-.94-2.06-.94-.94-2.06-.94 2.06-2.06.94z\"/><path d=\"M17.41 7.96l-1.37-1.37c-.4-.4-.92-.59-1.43-.59-.52 0-1.04.2-1.43.59L10.3 9.45l-7.72 7.72c-.78.78-.78 2.05 0 2.83L4 21.41c.39.39.9.59 1.41.59.51 0 1.02-.2 1.41-.59l7.78-7.78 2.81-2.81c.8-.78.8-2.07 0-2.86zM5.41 20L4 18.59l7.72-7.72 1.47 1.35L5.41 20z\"/>\n",
              "  </svg>\n",
              "      </button>\n",
              "      \n",
              "  <style>\n",
              "    .colab-df-container {\n",
              "      display:flex;\n",
              "      flex-wrap:wrap;\n",
              "      gap: 12px;\n",
              "    }\n",
              "\n",
              "    .colab-df-convert {\n",
              "      background-color: #E8F0FE;\n",
              "      border: none;\n",
              "      border-radius: 50%;\n",
              "      cursor: pointer;\n",
              "      display: none;\n",
              "      fill: #1967D2;\n",
              "      height: 32px;\n",
              "      padding: 0 0 0 0;\n",
              "      width: 32px;\n",
              "    }\n",
              "\n",
              "    .colab-df-convert:hover {\n",
              "      background-color: #E2EBFA;\n",
              "      box-shadow: 0px 1px 2px rgba(60, 64, 67, 0.3), 0px 1px 3px 1px rgba(60, 64, 67, 0.15);\n",
              "      fill: #174EA6;\n",
              "    }\n",
              "\n",
              "    [theme=dark] .colab-df-convert {\n",
              "      background-color: #3B4455;\n",
              "      fill: #D2E3FC;\n",
              "    }\n",
              "\n",
              "    [theme=dark] .colab-df-convert:hover {\n",
              "      background-color: #434B5C;\n",
              "      box-shadow: 0px 1px 3px 1px rgba(0, 0, 0, 0.15);\n",
              "      filter: drop-shadow(0px 1px 2px rgba(0, 0, 0, 0.3));\n",
              "      fill: #FFFFFF;\n",
              "    }\n",
              "  </style>\n",
              "\n",
              "      <script>\n",
              "        const buttonEl =\n",
              "          document.querySelector('#df-82bab40a-e70e-4859-9f00-4094c3a09876 button.colab-df-convert');\n",
              "        buttonEl.style.display =\n",
              "          google.colab.kernel.accessAllowed ? 'block' : 'none';\n",
              "\n",
              "        async function convertToInteractive(key) {\n",
              "          const element = document.querySelector('#df-82bab40a-e70e-4859-9f00-4094c3a09876');\n",
              "          const dataTable =\n",
              "            await google.colab.kernel.invokeFunction('convertToInteractive',\n",
              "                                                     [key], {});\n",
              "          if (!dataTable) return;\n",
              "\n",
              "          const docLinkHtml = 'Like what you see? Visit the ' +\n",
              "            '<a target=\"_blank\" href=https://colab.research.google.com/notebooks/data_table.ipynb>data table notebook</a>'\n",
              "            + ' to learn more about interactive tables.';\n",
              "          element.innerHTML = '';\n",
              "          dataTable['output_type'] = 'display_data';\n",
              "          await google.colab.output.renderOutput(dataTable, element);\n",
              "          const docLink = document.createElement('div');\n",
              "          docLink.innerHTML = docLinkHtml;\n",
              "          element.appendChild(docLink);\n",
              "        }\n",
              "      </script>\n",
              "    </div>\n",
              "  </div>\n",
              "  "
            ]
          },
          "metadata": {},
          "execution_count": 14
        }
      ]
    },
    {
      "cell_type": "markdown",
      "source": [
        "Χωρίζω τυχαία τα βίντεο μέχρι να βρώ μια καλή κατανομή"
      ],
      "metadata": {
        "id": "eTidk3mBXljI"
      }
    },
    {
      "cell_type": "code",
      "source": [
        "def train_val_test_video(category):\n",
        "  category = category.sample(frac=1).reset_index(drop=True)\n",
        "\n",
        "  len_list = len(category)\n",
        "  train_per = int(len_list*0.55)\n",
        "  val_per = int(len_list*0.15)\n",
        "  test_per = int(len_list*0.30)\n",
        "  \n",
        "  train_category = list(category['video'][:train_per])\n",
        "  val_category = list(category['video'][train_per:train_per+val_per])\n",
        "  test_category = list(category['video'][train_per+val_per:])\n",
        "\n",
        "  return train_category,val_category,test_category\n",
        "\n"
      ],
      "metadata": {
        "id": "IfKP6JwV5Axb"
      },
      "execution_count": null,
      "outputs": []
    },
    {
      "cell_type": "code",
      "source": [
        "train_random,val_random,test_random = train_val_test_video(df_videos)"
      ],
      "metadata": {
        "id": "HxF9r8P1WA3I"
      },
      "execution_count": null,
      "outputs": []
    },
    {
      "cell_type": "code",
      "source": [
        "df_train= df_all[df_all['video'].isin(train_random)].reset_index(drop=True)\n",
        "df_validation = df_all[df_all['video'].isin(val_random)].reset_index(drop=True)\n",
        "df_test = df_all[df_all['video'].isin(test_random)].reset_index(drop=True)"
      ],
      "metadata": {
        "id": "h4a5-U4E5GbE"
      },
      "execution_count": null,
      "outputs": []
    },
    {
      "cell_type": "code",
      "source": [
        "#joblib.dump(df_train,'/content/gdrive/MyDrive/train_net/afewva/df_train')\n",
        "#joblib.dump(df_validation,'/content/gdrive/MyDrive/train_net/afewva/df_validation')\n",
        "#joblib.dump(df_test,'/content/gdrive/MyDrive/train_net/afewva/df_test')\n",
        "\n",
        "df_train= joblib.load('/content/gdrive/MyDrive/train_net/afewva/df_train')\n",
        "df_validation= joblib.load('/content/gdrive/MyDrive/train_net/afewva/df_validation')\n",
        "df_test= joblib.load('/content/gdrive/MyDrive/train_net/afewva/df_test')"
      ],
      "metadata": {
        "id": "ceCgzKxvX0Gw"
      },
      "execution_count": null,
      "outputs": []
    },
    {
      "cell_type": "markdown",
      "source": [
        "## data distribution"
      ],
      "metadata": {
        "id": "hfH5F1Vmk2fy"
      }
    },
    {
      "cell_type": "code",
      "source": [
        "def show_v_a_distribution(df_train,df_val,df_test):\n",
        " \n",
        "  sets = ['train','validation','test']\n",
        "  fig,axs = plt.subplots(figsize =(18, 5),ncols=3) \n",
        "  fig.suptitle('BEFORE split', fontsize=10)\n",
        "  for i,df in enumerate([df_train,df_val,df_test]):\n",
        "    x = df['arousal']\n",
        "    y = df['valence']\n",
        "    hist = axs[i].hist2d(x, y,range =  [[-1, 1], [-1, 1]])\n",
        "    axs[i].set_xlabel('arousal', fontsize=12)\n",
        "    axs[i].set_ylabel('valence', fontsize=12)\n",
        "    axs[i].set_title(\"Distribution of {} set\".format(sets[i]), fontsize=15)\n",
        "    fig.colorbar(hist[3], ax=axs[i])\n"
      ],
      "metadata": {
        "id": "sNuVMR_HPqcx"
      },
      "execution_count": null,
      "outputs": []
    },
    {
      "cell_type": "code",
      "source": [
        "show_v_a_distribution(df_train,df_validation,df_test)"
      ],
      "metadata": {
        "colab": {
          "base_uri": "https://localhost:8080/",
          "height": 373
        },
        "id": "a7F2vYHvW9fN",
        "outputId": "a0fa18f8-8553-41fa-acf9-d7c1a6e9b6ef"
      },
      "execution_count": null,
      "outputs": [
        {
          "output_type": "display_data",
          "data": {
            "text/plain": [
              "<Figure size 1296x360 with 6 Axes>"
            ],
            "image/png": "[encoded data removed]"
          },
          "metadata": {
            "needs_background": "light"
          }
        }
      ]
    },
    {
      "cell_type": "code",
      "source": [
        "def plot_samples(category,names,train_counter,val_counter,test_counter):\n",
        "  fig, axs = plt.subplots(figsize=(20, 4), ncols=3, constrained_layout=True)\n",
        "  fig.suptitle('Database: AFEWVA\\nTask: valence and arousal estimation \\nBEFORE split', fontsize=15)\n",
        "  sets = ['train','validation','test']\n",
        "  for i,set_counter in enumerate([train_counter,val_counter,test_counter]):\n",
        "    names_list = [name for name in names]\n",
        "    axs[i].bar(names_list,set_counter,color='c',  edgecolor='black')\n",
        "    axs[i].set_title(\"{} for {} set\".format(category,sets[i]),fontsize=15)"
      ],
      "metadata": {
        "id": "zZ9Kc3gEYjds"
      },
      "execution_count": null,
      "outputs": []
    },
    {
      "cell_type": "code",
      "source": [
        "race_names = ['White','Black','Asian','Indian']\n",
        "\n",
        "race_counter_train = []\n",
        "for i in range(len(race_names)):\n",
        "  race_counter_train.append(len(df_train[df_train['race']==race_names[i]]))\n",
        "\n",
        "race_counter_val = []\n",
        "for i in range(len(race_names)):\n",
        "  race_counter_val.append(len(df_validation[df_validation['race']==race_names[i]]))\n",
        "\n",
        "race_counter_test = []\n",
        "for i in range(len(race_names)):\n",
        "  race_counter_test.append(len(df_test[df_test['race']==race_names[i]]))\n",
        "\n",
        "plot_samples('Race',race_names,race_counter_train,race_counter_val,race_counter_test)\n"
      ],
      "metadata": {
        "colab": {
          "base_uri": "https://localhost:8080/",
          "height": 258
        },
        "id": "ZypwPX7A9mZK",
        "outputId": "107bd9f4-6e98-464b-a000-8ffcae2388fe"
      },
      "execution_count": null,
      "outputs": [
        {
          "output_type": "display_data",
          "data": {
            "text/plain": [
              "<Figure size 1440x288 with 3 Axes>"
            ],
            "image/png": "[encoded data removed]"
          },
          "metadata": {
            "needs_background": "light"
          }
        }
      ]
    },
    {
      "cell_type": "code",
      "source": [
        "print(race_counter_train)\n",
        "print(race_counter_val)\n",
        "print(race_counter_test)"
      ],
      "metadata": {
        "colab": {
          "base_uri": "https://localhost:8080/"
        },
        "id": "2al2QSTfFv02",
        "outputId": "aee6de37-12ad-447f-d200-1d4c69773aad"
      },
      "execution_count": null,
      "outputs": [
        {
          "output_type": "stream",
          "name": "stdout",
          "text": [
            "[5780, 370, 333, 0]\n",
            "[1917, 0, 49, 0]\n",
            "[3456, 0, 177, 75]\n"
          ]
        }
      ]
    },
    {
      "cell_type": "code",
      "source": [
        "gender_names = ['Male','Female']\n",
        "\n",
        "gender_counter_train = []\n",
        "for i in range(len(gender_names)):\n",
        "  gender_counter_train.append(len(df_train[df_train['gender']==gender_names[i]]))\n",
        "\n",
        "gender_counter_val = []\n",
        "for i in range(len(gender_names)):\n",
        "  gender_counter_val.append(len(df_validation[df_validation['gender']==gender_names[i]]))\n",
        "\n",
        "gender_counter_test = []\n",
        "for i in range(len(gender_names)):\n",
        "  gender_counter_test.append(len(df_test[df_test['gender']==gender_names[i]]))\n",
        "\n",
        "plot_samples('Gender',gender_names,gender_counter_train,gender_counter_val,gender_counter_test)\n"
      ],
      "metadata": {
        "id": "EwjNs1GT-FG3",
        "colab": {
          "base_uri": "https://localhost:8080/",
          "height": 258
        },
        "outputId": "dfdfc76f-8249-47d6-8243-739732e39c90"
      },
      "execution_count": null,
      "outputs": [
        {
          "output_type": "display_data",
          "data": {
            "text/plain": [
              "<Figure size 1440x288 with 3 Axes>"
            ],
            "image/png": "[encoded data removed]"
          },
          "metadata": {
            "needs_background": "light"
          }
        }
      ]
    },
    {
      "cell_type": "code",
      "source": [
        "print(gender_counter_train)\n",
        "print(gender_counter_val)\n",
        "print(gender_counter_test)"
      ],
      "metadata": {
        "colab": {
          "base_uri": "https://localhost:8080/"
        },
        "id": "FhKkoz3oF2Cw",
        "outputId": "d024b290-6f7a-4ceb-b13f-8356d5019faa"
      },
      "execution_count": null,
      "outputs": [
        {
          "output_type": "stream",
          "name": "stdout",
          "text": [
            "[3728, 2755]\n",
            "[898, 1068]\n",
            "[2439, 1269]\n"
          ]
        }
      ]
    },
    {
      "cell_type": "code",
      "source": [
        "\n",
        "age_names = ['0-2','3-9','10-19','20-29','30-39','40-49','50-59','60-69','70+']\n",
        "\n",
        "age_counter_train = []\n",
        "for i in range(len(age_names)):\n",
        "  age_counter_train.append(len(df_train[df_train['age']==age_names[i]]))\n",
        "\n",
        "age_counter_val = []\n",
        "for i in range(len(age_names)):\n",
        "  age_counter_val.append(len(df_validation[df_validation['age']==age_names[i]]))\n",
        "\n",
        "age_counter_test = []\n",
        "for i in range(len(age_names)):\n",
        "  age_counter_test.append(len(df_test[df_test['age']==age_names[i]]))\n",
        "\n",
        "plot_samples('Age',age_names,age_counter_train,age_counter_val,age_counter_test)\n"
      ],
      "metadata": {
        "id": "Vhkktt3A-Hm7",
        "colab": {
          "base_uri": "https://localhost:8080/",
          "height": 258
        },
        "outputId": "64b7b957-096c-4d5d-829d-6525683a66ce"
      },
      "execution_count": null,
      "outputs": [
        {
          "output_type": "display_data",
          "data": {
            "text/plain": [
              "<Figure size 1440x288 with 3 Axes>"
            ],
            "image/png": "[encoded data removed]"
          },
          "metadata": {
            "needs_background": "light"
          }
        }
      ]
    },
    {
      "cell_type": "code",
      "source": [
        "print(age_counter_train)\n",
        "print(age_counter_val)\n",
        "print(age_counter_test)"
      ],
      "metadata": {
        "colab": {
          "base_uri": "https://localhost:8080/"
        },
        "id": "Duj6woe_F7J_",
        "outputId": "eeb0ebbb-c04e-4be9-b86c-80128beaecef"
      },
      "execution_count": null,
      "outputs": [
        {
          "output_type": "stream",
          "name": "stdout",
          "text": [
            "[61, 77, 312, 2597, 1903, 784, 690, 0, 59]\n",
            "[0, 0, 0, 820, 742, 189, 166, 49, 0]\n",
            "[0, 0, 297, 1385, 1099, 500, 357, 70, 0]\n"
          ]
        }
      ]
    },
    {
      "cell_type": "markdown",
      "metadata": {
        "id": "-GSvX7NyPqPe"
      },
      "source": [
        "## data preprocessing "
      ]
    },
    {
      "cell_type": "code",
      "execution_count": null,
      "metadata": {
        "id": "Ct-CEeIy18VC"
      },
      "outputs": [],
      "source": [
        "# load one image\n",
        "image = Image.open(df_all['face_name_align'][30])\n",
        "# convert image to numpy array\n",
        "data = np.asarray(image)"
      ]
    },
    {
      "cell_type": "code",
      "execution_count": null,
      "metadata": {
        "colab": {
          "base_uri": "https://localhost:8080/"
        },
        "id": "-2xht_432XDV",
        "outputId": "56c5df38-04c6-44eb-daad-f219d1cc9d0f"
      },
      "outputs": [
        {
          "output_type": "stream",
          "name": "stdout",
          "text": [
            "(112, 112, 3)\n"
          ]
        }
      ],
      "source": [
        "print(np.shape(data))"
      ]
    },
    {
      "cell_type": "markdown",
      "metadata": {
        "id": "5cvLthnZThdb"
      },
      "source": [
        "Οι εικόνες που στέλνουμε στο νευρωνικό δίκτυο είναι resized σε 112*112 και είναι έγχρωμες (τιμές απο 0-255). <br>\n",
        " Έτσι στο δίκτυο οι πίνακες είναι μεγέθους 112 * 112 * 3. "
      ]
    },
    {
      "cell_type": "code",
      "execution_count": null,
      "metadata": {
        "id": "goe2XWeWPxir"
      },
      "outputs": [],
      "source": [
        "# get batches of tensor image data (rescaled to 0-1)\n",
        "train_datagen = ImageDataGenerator(rescale=1./255,horizontal_flip=True,brightness_range=[0.2,1.0])\n",
        "test_datagen = ImageDataGenerator(rescale=1./255,horizontal_flip=True,brightness_range=[0.2,1.0])"
      ]
    },
    {
      "cell_type": "code",
      "source": [
        "#drop some rows to have samplesMODbatch==0\n",
        "df_train.drop(df_train.index[0:19], axis=0, inplace=True)\n",
        "df_validation.drop(df_validation.index[0:14], axis=0, inplace=True)"
      ],
      "metadata": {
        "id": "Wf3ivSpve31a"
      },
      "execution_count": null,
      "outputs": []
    },
    {
      "cell_type": "code",
      "source": [
        "batch_size = 64\n",
        "#load and iterate training dataset\n",
        "train_generator = train_datagen.flow_from_dataframe(\n",
        "    df_train,\n",
        "    x_col='face_name_align',\n",
        "    y_col=['valence','arousal'], #multitask\n",
        "    target_size=(112, 112), \n",
        "    color_mode='rgb',\n",
        "    class_mode='raw', #regression\n",
        "    batch_size=batch_size\n",
        ")\n",
        "# load and iterate validation dataset\n",
        "validation_generator = test_datagen.flow_from_dataframe(\n",
        "    df_validation,\n",
        "    x_col='face_name_align',\n",
        "    y_col=['valence','arousal'],\n",
        "    target_size=(112, 112), \n",
        "    color_mode='rgb',\n",
        "    class_mode='raw',\n",
        "    batch_size=batch_size\n",
        ")\n",
        "\n",
        "# load and iterate test dataset\n",
        "test_generator = test_datagen.flow_from_dataframe(\n",
        "    df_test,\n",
        "    x_col='face_name_align',\n",
        "    y_col=['valence','arousal'],\n",
        "    target_size=(112, 112), \n",
        "    color_mode='rgb',\n",
        "    class_mode='raw',\n",
        "    batch_size=batch_size,\n",
        "    shuffle = False\n",
        ")\n"
      ],
      "metadata": {
        "colab": {
          "base_uri": "https://localhost:8080/"
        },
        "id": "3XfPtzrDA72A",
        "outputId": "76016fd7-6553-4060-f657-1e6f226c42f9"
      },
      "execution_count": null,
      "outputs": [
        {
          "output_type": "stream",
          "name": "stdout",
          "text": [
            "Found 6464 validated image filenames.\n",
            "Found 1952 validated image filenames.\n",
            "Found 3708 validated image filenames.\n"
          ]
        }
      ]
    },
    {
      "cell_type": "markdown",
      "metadata": {
        "id": "WhQwGtLyPtXu"
      },
      "source": [
        "## training"
      ]
    },
    {
      "cell_type": "code",
      "source": [
        "#correlation coef loss function\n",
        "def concordance_cc2(predictions,labels):\n",
        "    pred_mean, pred_var = tf.nn.moments(predictions, (0,))\n",
        "    gt_mean, gt_var = tf.nn.moments(labels, (0,))\n",
        "\n",
        "    mean_cent_prod = tf.reduce_mean((predictions - pred_mean) * (labels - gt_mean))\n",
        "\n",
        "    return 1 - (2 * mean_cent_prod) / (pred_var + gt_var + tf.square(pred_mean - gt_mean))\n",
        "\n",
        "\n"
      ],
      "metadata": {
        "id": "wkSFgbNfX2e4"
      },
      "execution_count": null,
      "outputs": []
    },
    {
      "cell_type": "code",
      "source": [
        "def concordance_cc2_loss(labels,predictions):\n",
        "  #split valence and arousal values\n",
        "  labels_valence = labels[:,0]  \n",
        "  predictions_valence = predictions[:,0]\n",
        "\n",
        "  \n",
        "  labels_arousal = labels[:,1]\n",
        "  predictions_arousal = predictions[:,1]\n",
        "\n",
        "  return ( concordance_cc2(predictions_valence, labels_valence) + concordance_cc2(predictions_arousal, labels_arousal) ) / 2 \n",
        "\n"
      ],
      "metadata": {
        "id": "NwPuddzfbJtw"
      },
      "execution_count": null,
      "outputs": []
    },
    {
      "cell_type": "code",
      "source": [
        "#pretrained model \n",
        "base_model =  tf.keras.applications.ResNet50(\n",
        "    include_top=False, #custume input and output layers based on our data\n",
        "    weights=\"imagenet\", #use weights from imagenet training \n",
        "    input_shape=(112,112,3),\n",
        "    pooling='avg',\n",
        ")\n",
        "\n",
        "#use functional API to allow multiple outputs\n",
        "# input shape\n",
        "inputs = tf.keras.Input(shape=(112, 112, 3))\n",
        "# model architecture\n",
        "x = base_model(inputs, training=True)\n",
        "#x = Dense(512, activation=\"relu\")(x)\n",
        "#x = Dropout(0.2)(x)\n",
        "#x = Dense(512,activation= \"relu\")(x)\n",
        "\n",
        "#output --> 2 tasks: valence & arousal\n",
        "outputs = tf.keras.layers.Dense(2,activation=\"linear\")(x) #change to tanh and see results\n",
        "model = tf.keras.Model(inputs, outputs)\n",
        "  "
      ],
      "metadata": {
        "id": "paNztJRODR-Z",
        "colab": {
          "base_uri": "https://localhost:8080/"
        },
        "outputId": "0869a3bc-c8fc-4220-ad33-3f768f4edff8"
      },
      "execution_count": null,
      "outputs": [
        {
          "output_type": "stream",
          "name": "stdout",
          "text": [
            "Downloading data from https://storage.googleapis.com/tensorflow/keras-applications/resnet/resnet50_weights_tf_dim_ordering_tf_kernels_notop.h5\n",
            "94765736/94765736 [==============================] - 0s 0us/step\n"
          ]
        }
      ]
    },
    {
      "cell_type": "code",
      "source": [
        "#compile model\n",
        "model.compile(optimizer=Adam(learning_rate=0.001),\n",
        "                     loss= concordance_cc2_loss) \n",
        "                     # metrics=['mae',pearson_r] mean absolute error, Pearsons Correlation Coefficient"
      ],
      "metadata": {
        "id": "lMFildOkBZrT"
      },
      "execution_count": null,
      "outputs": []
    },
    {
      "cell_type": "code",
      "source": [
        "#checkpoint \n",
        "filepath = \"/content/gdrive/MyDrive/train_net/ckp_models/AFEW-VA/AFEW-VA_simple/AFEWVA_before_lr3_b64_aug/AFEWVA-{epoch:02d}.h5\"\n",
        "checkpoint = ModelCheckpoint(  \n",
        "    filepath,\n",
        "    monitor=\"val_loss\",\n",
        "    verbose=1,\n",
        "    save_best_only=False,\n",
        "    save_weights_only=False,\n",
        "    mode=\"auto\",\n",
        "    save_freq=\"epoch\")\n",
        "\n",
        "callbacks_list = [checkpoint]\n",
        "\n",
        "\n",
        "#fit model\n",
        "history = model.fit(train_generator,validation_data=validation_generator,epochs=10,callbacks=callbacks_list)\n"
      ],
      "metadata": {
        "id": "Q0jAJfhVZNP8"
      },
      "execution_count": null,
      "outputs": []
    },
    {
      "cell_type": "markdown",
      "metadata": {
        "id": "h5yR05l_Puc-"
      },
      "source": [
        "## evaluation\n"
      ]
    },
    {
      "cell_type": "code",
      "source": [
        "RACES =['White','Black','Asian','Indian']\n",
        "AGES = ['0-2','3-9','10-19','20-29','30-39','40-49','50-59','60-69','70+']\n",
        "GENDERS = ['Male','Female']"
      ],
      "metadata": {
        "id": "gEbHRPHfRPrz"
      },
      "execution_count": null,
      "outputs": []
    },
    {
      "cell_type": "code",
      "source": [
        "#new correlation coef\n",
        "def concordance_cc2_eval(r1, r2): #r1,r2 = labels,predictions\n",
        "     mean_cent_prod = np.mean((r1 - np.mean(r1)) * (r2 - np.mean(r2)))\n",
        "     return (2 * mean_cent_prod) / (np.var(r1) + np.var(r2) + (np.mean(r1) - np.mean(r2)) ** 2)\n"
      ],
      "metadata": {
        "id": "SzHB79FUgIVB"
      },
      "execution_count": null,
      "outputs": []
    },
    {
      "cell_type": "code",
      "source": [
        "def correlation_mse_mae(labels,predictions):\n",
        "  correlation = concordance_cc2_eval(labels, predictions)\n",
        "  mse = mean_squared_error(labels, predictions)\n",
        "  mae = mean_absolute_error(labels, predictions)\n",
        "  return (correlation,mse,mae)\n",
        "\n",
        "\n"
      ],
      "metadata": {
        "id": "q8lzSQPWMc_R"
      },
      "execution_count": null,
      "outputs": []
    },
    {
      "cell_type": "code",
      "source": [
        "def predictions_labels_category(test_generator,df_test,labels,predictions,category_list,category_name):\n",
        "  y_pred = {key: [] for key in category_list}\n",
        "  y_true = {key: [] for key in category_list}\n",
        "  category_counter = {key: [] for key in category_list} # values are list of indexes of each category\n",
        "\n",
        "  for i,name in enumerate(test_generator.filenames): \n",
        "    category_filename = df_test.loc[df_test['face_name_align'] == name, category_name].item()\n",
        "    for cat in category_list:\n",
        "      if category_filename == cat:\n",
        "        category_counter[cat].append(i)\n",
        "        y_pred[cat].append(predictions[i])\n",
        "        y_true[cat].append(labels[i])\n",
        "    \n",
        "  return y_true,y_pred,category_counter"
      ],
      "metadata": {
        "id": "OT5rRmW8RXkp"
      },
      "execution_count": null,
      "outputs": []
    },
    {
      "cell_type": "code",
      "source": [
        "models_labels = {}\n",
        "models_predictions = {}\n",
        "models_directory = '/content/gdrive/MyDrive/train_net/ckp_models/AFEW-VA/AFEW-VA_simple/AFEWVA_before_lr3_b128'\n",
        "for saved_model in (os.listdir(models_directory)):\n",
        "  print(saved_model)\n",
        "  model = tf.keras.models.load_model(os.path.join(models_directory,saved_model),custom_objects={'concordance_cc2_loss':concordance_cc2_loss})\n",
        "  models_labels[saved_model[:-3]] = test_generator.labels\n",
        "  models_predictions[saved_model[:-3]] = model.predict(test_generator)\n"
      ],
      "metadata": {
        "id": "GgvWbTSKDb7P",
        "colab": {
          "base_uri": "https://localhost:8080/"
        },
        "outputId": "b376f03d-ebda-41c4-801c-f3fa120b05de"
      },
      "execution_count": null,
      "outputs": [
        {
          "output_type": "stream",
          "name": "stdout",
          "text": [
            "AFEWVA-01.h5\n",
            "AFEWVA-02.h5\n",
            "AFEWVA-03.h5\n",
            "AFEWVA-04.h5\n",
            "AFEWVA-05.h5\n",
            "AFEWVA-06.h5\n",
            "AFEWVA-07.h5\n",
            "AFEWVA-08.h5\n",
            "AFEWVA-09.h5\n",
            "AFEWVA-10.h5\n"
          ]
        }
      ]
    },
    {
      "cell_type": "code",
      "source": [
        "def valence_arousal(labels,predictions):\n",
        "  valence_labels= []\n",
        "  valence_predictions = []\n",
        "  arousal_labels = []\n",
        "  arousal_predictions = []\n",
        "\n",
        "  for (v_l,a_l),(v_p,a_p) in zip(labels,predictions):\n",
        "    valence_labels.append(v_l)\n",
        "    valence_predictions.append(v_p)\n",
        "    arousal_labels.append(a_l)\n",
        "    arousal_predictions.append(a_p)\n",
        "\n",
        "  return valence_labels,valence_predictions,arousal_labels,arousal_predictions"
      ],
      "metadata": {
        "id": "AeImQhPySrK7"
      },
      "execution_count": null,
      "outputs": []
    },
    {
      "cell_type": "code",
      "source": [
        "for model_name in models_labels.keys():\n",
        "  \n",
        "  valence_labels= []\n",
        "  valence_predictions = []\n",
        "  arousal_labels = []\n",
        "  arousal_predictions = []\n",
        "\n",
        "  labels,predictions = models_labels[model_name],models_predictions[model_name]\n",
        "  valence_labels,valence_predictions,arousal_labels,arousal_predictions = valence_arousal(labels,predictions)\n",
        "\n",
        "  print(\"Model Name: =\",model_name)\n",
        "  correlation_v,mse_v,mae_v = correlation_mse_mae(valence_labels,valence_predictions)\n",
        "  correlation_a,mse_a,mae_a = correlation_mse_mae(arousal_labels,arousal_predictions)\n",
        "  data = [[\"Correlation\",correlation_v,correlation_a],[\"Mean Squared Error\",mse_v,mse_a],[\"Mean Absolute Error\",mae_v,mae_a]]\n",
        "  print(tabulate(data, headers=[\" Valence\",\"Arousal\"]))\n",
        "  print('\\n\\n')"
      ],
      "metadata": {
        "id": "hUzMxCqHMP6o"
      },
      "execution_count": null,
      "outputs": []
    },
    {
      "cell_type": "code",
      "source": [
        "best_model_name = 'AFEWVA-08'\n",
        "best_model = tf.keras.models.load_model(os.path.join(models_directory,\"{}.h5\".format(best_model_name)),custom_objects={'concordance_cc2_loss':concordance_cc2_loss})\n"
      ],
      "metadata": {
        "id": "BtsUuFMWQ7RT"
      },
      "execution_count": null,
      "outputs": []
    },
    {
      "cell_type": "code",
      "source": [
        "y_true_race,y_pred_race,counter_race = predictions_labels_category(test_generator,df_test,\n",
        "                                                      models_labels[best_model_name],models_predictions[best_model_name],\n",
        "                                                      RACES,'race')\n",
        "\n",
        "y_true_age,y_pred_age,counter_age = predictions_labels_category(test_generator,df_test,\n",
        "                                                    models_labels[best_model_name],models_predictions[best_model_name],\n",
        "                                                    AGES,'age')\n",
        "\n",
        "y_true_gender,y_pred_gender,counter_gender = predictions_labels_category(test_generator,df_test,\n",
        "                                                          models_labels[best_model_name],models_predictions[best_model_name],\n",
        "                                                          GENDERS,'gender')\n"
      ],
      "metadata": {
        "id": "eJ27oss1RFxa"
      },
      "execution_count": null,
      "outputs": []
    },
    {
      "cell_type": "code",
      "source": [
        "#give indexes of category and out\n",
        "def indexes_to_videos(df_test,counter):\n",
        "  videos = df_test.video.unique()\n",
        "  videos_counter = []\n",
        "  for i in counter:\n",
        "    video = df_test.iloc[i]['video']\n",
        "    videos_counter.append(video)\n",
        "  return videos_counter\n"
      ],
      "metadata": {
        "id": "HuUGYsbHQdyW"
      },
      "execution_count": null,
      "outputs": []
    },
    {
      "cell_type": "code",
      "source": [
        "def results_category(df_test,split,category_list,category_name,y_true,y_pred,category_counter):\n",
        "  print(\"{} scores {} split\".format(category_name,split))\n",
        "  data = []\n",
        "  for i,cat in enumerate(category_list):\n",
        "    if len(y_true[cat])!= 0:\n",
        "      v_l,v_p,a_l,a_p = valence_arousal(y_true[cat],y_pred[cat])\n",
        "      data.append([cat, \n",
        "                 len(np.unique(indexes_to_videos(df_test,category_counter[cat]))),\n",
        "                 len(category_counter[cat]),\n",
        "                 correlation_mse_mae(v_l,v_p)[0],correlation_mse_mae(a_l,a_p)[0],\n",
        "                 correlation_mse_mae(v_l,v_p)[2],correlation_mse_mae(a_l,a_p)[2]])\n",
        "    else:\n",
        "      data.append([cat,'Nan','Nan','Nan','Nan','Nan','Nan'])\n",
        "  print(tabulate(data, headers=[category_name, \n",
        "                                \"#videos\",\n",
        "                                \"#frames\",\n",
        "                                \"Correlation\\nValence\",\n",
        "                                \"Correlation\\nArousal\",\n",
        "                                \"Mean Absolute Error\\nValence\",\n",
        "                                \"Mean Absolute Error\\nArousal\"]))\n",
        "  print()\n",
        "\n"
      ],
      "metadata": {
        "id": "etzrmrtBSBYP"
      },
      "execution_count": null,
      "outputs": []
    },
    {
      "cell_type": "code",
      "source": [
        "def results_category_nomse(df_test,split,category_list,category_name,y_true,y_pred,category_counter):\n",
        "  print(\"{} scores {} split\".format(category_name,split))\n",
        "  data = []\n",
        "  for i,cat in enumerate(category_list):\n",
        "    if len(y_true[cat])!= 0:\n",
        "      v_l,v_p,a_l,a_p = valence_arousal(y_true[cat],y_pred[cat])\n",
        "      data.append([cat, \n",
        "                 len(np.unique(indexes_to_videos(df_test,category_counter[cat]))),\n",
        "                 len(category_counter[cat]),\n",
        "                 correlation_mse_mae(v_l,v_p)[0],correlation_mse_mae(a_l,a_p)[0]])\n",
        "    else:\n",
        "      data.append([cat,'Nan','Nan','Nan','Nan'])\n",
        "  print(tabulate(data, headers=[category_name, \n",
        "                                \"#videos\",\n",
        "                                \"#frames\",\n",
        "                                \"Correlation\\nValence\",\n",
        "                                \"Correlation\\nArousal\"]))\n",
        "  print()\n",
        "\n"
      ],
      "metadata": {
        "id": "PAHnC_CEqpZw"
      },
      "execution_count": null,
      "outputs": []
    },
    {
      "cell_type": "code",
      "source": [
        "print(\"OVERALL scores before split\")\n",
        "print(\"Batch size = 64 , learning rate = 0.001\")\n",
        "labels,predictions = models_labels[best_model_name],models_predictions[best_model_name]\n",
        "v_l,v_p,a_l,a_p = valence_arousal(labels,predictions)\n",
        "data = [[\"Pearsons Correlation\",correlation_mse_mae(v_l,v_p)[0],correlation_mse_mae(a_l,a_p)[0]]]\n",
        "print(tabulate(data, headers=[\" Valence\",\"Arousal\"]))\n",
        "print()\n",
        "results_category_nomse(df_test,'before',RACES,'race',y_true_race,y_pred_race,counter_race)\n",
        "results_category_nomse(df_test,'before',AGES,'age',y_true_age,y_pred_age,counter_age)\n",
        "results_category_nomse(df_test,'before',GENDERS,'gender',y_true_gender,y_pred_gender,counter_gender)\n"
      ],
      "metadata": {
        "colab": {
          "base_uri": "https://localhost:8080/"
        },
        "id": "n5CFUvltq2mI",
        "outputId": "d484d6da-6b13-485c-aebd-b820d04e67b1"
      },
      "execution_count": null,
      "outputs": [
        {
          "output_type": "stream",
          "name": "stdout",
          "text": [
            "OVERALL scores before split\n",
            "Batch size = 64 , learning rate = 0.001\n",
            "                         Valence    Arousal\n",
            "--------------------  ----------  ---------\n",
            "Pearsons Correlation    0.211088   0.164935\n",
            "\n",
            "race scores before split\n",
            "race      #videos    #frames    Correlation    Correlation\n",
            "                                    Valence        Arousal\n",
            "------  ---------  ---------  -------------  -------------\n",
            "White          69       3456     0.197205         0.166289\n",
            "Black         nan        nan   nan              nan\n",
            "Asian           3        177     0.319197         0.174179\n",
            "Indian          3         75     0.00118344      -0.292279\n",
            "\n",
            "age scores before split\n",
            "age      #videos    #frames    Correlation    Correlation\n",
            "                                   Valence        Arousal\n",
            "-----  ---------  ---------  -------------  -------------\n",
            "0-2          nan        nan    nan            nan\n",
            "3-9          nan        nan    nan            nan\n",
            "10-19          6        297      0.202812      -0.0317615\n",
            "20-29         31       1385      0.170549       0.123753\n",
            "30-39         21       1099      0.156957       0.278313\n",
            "40-49         10        500      0.405103       0.0824942\n",
            "50-59          6        357      0.117837      -0.0186693\n",
            "60-69          1         70     -0.0107869     -0.108074\n",
            "70+          nan        nan    nan            nan\n",
            "\n",
            "gender scores before split\n",
            "gender      #videos    #frames    Correlation    Correlation\n",
            "                                      Valence        Arousal\n",
            "--------  ---------  ---------  -------------  -------------\n",
            "Male             48       2439       0.216286       0.143817\n",
            "Female           27       1269       0.20314        0.165408\n",
            "\n"
          ]
        }
      ]
    },
    {
      "cell_type": "markdown",
      "source": [
        "#After split"
      ],
      "metadata": {
        "id": "amo_irAl953F"
      }
    },
    {
      "cell_type": "code",
      "source": [
        "RACES =['White','Black','Asian','Indian']\n",
        "AGES = ['0-2','3-9','10-19','20-29','30-39','40-49','50-59','60-69','70+']\n",
        "GENDERS = ['Male','Female']"
      ],
      "metadata": {
        "id": "hUUNT6ArSDpy"
      },
      "execution_count": null,
      "outputs": []
    },
    {
      "cell_type": "code",
      "source": [
        "df_all"
      ],
      "metadata": {
        "id": "RAXsp8jM9NUL",
        "colab": {
          "base_uri": "https://localhost:8080/",
          "height": 423
        },
        "outputId": "c0130d51-ba78-4c02-c86c-4b8e7909ab78"
      },
      "execution_count": null,
      "outputs": [
        {
          "output_type": "execute_result",
          "data": {
            "text/plain": [
              "                              face_name_align  valence  arousal   race gender  \\\n",
              "0      /content/AFEW-VA_aligned/001/00000.jpg      0.0      0.5  White   Male   \n",
              "1      /content/AFEW-VA_aligned/001/00001.jpg      0.0      0.5  White   Male   \n",
              "2      /content/AFEW-VA_aligned/001/00002.jpg      0.0      0.5  White   Male   \n",
              "3      /content/AFEW-VA_aligned/001/00003.jpg      0.0      0.5  White   Male   \n",
              "4      /content/AFEW-VA_aligned/001/00004.jpg      0.0      0.5  White   Male   \n",
              "...                                       ...      ...      ...    ...    ...   \n",
              "12152  /content/AFEW-VA_aligned/241/00084.jpg      0.2      0.3  White   Male   \n",
              "12153  /content/AFEW-VA_aligned/241/00085.jpg      0.2      0.3  White   Male   \n",
              "12154  /content/AFEW-VA_aligned/241/00086.jpg      0.2      0.3  White   Male   \n",
              "12155  /content/AFEW-VA_aligned/241/00087.jpg      0.2      0.3  White   Male   \n",
              "12156  /content/AFEW-VA_aligned/241/00088.jpg      0.2      0.3  White   Male   \n",
              "\n",
              "         age video  frames  \n",
              "0      20-29   001      42  \n",
              "1      20-29   001      42  \n",
              "2      20-29   001      42  \n",
              "3      20-29   001      42  \n",
              "4      20-29   001      42  \n",
              "...      ...   ...     ...  \n",
              "12152  20-29   241      89  \n",
              "12153  20-29   241      89  \n",
              "12154  20-29   241      89  \n",
              "12155  20-29   241      89  \n",
              "12156  20-29   241      89  \n",
              "\n",
              "[12157 rows x 8 columns]"
            ],
            "text/html": [
              "\n",
              "  <div id=\"df-9f146ceb-4532-441c-8209-86474448ba5a\">\n",
              "    <div class=\"colab-df-container\">\n",
              "      <div>\n",
              "<style scoped>\n",
              "    .dataframe tbody tr th:only-of-type {\n",
              "        vertical-align: middle;\n",
              "    }\n",
              "\n",
              "    .dataframe tbody tr th {\n",
              "        vertical-align: top;\n",
              "    }\n",
              "\n",
              "    .dataframe thead th {\n",
              "        text-align: right;\n",
              "    }\n",
              "</style>\n",
              "<table border=\"1\" class=\"dataframe\">\n",
              "  <thead>\n",
              "    <tr style=\"text-align: right;\">\n",
              "      <th></th>\n",
              "      <th>face_name_align</th>\n",
              "      <th>valence</th>\n",
              "      <th>arousal</th>\n",
              "      <th>race</th>\n",
              "      <th>gender</th>\n",
              "      <th>age</th>\n",
              "      <th>video</th>\n",
              "      <th>frames</th>\n",
              "    </tr>\n",
              "  </thead>\n",
              "  <tbody>\n",
              "    <tr>\n",
              "      <th>0</th>\n",
              "      <td>/content/AFEW-VA_aligned/001/00000.jpg</td>\n",
              "      <td>0.0</td>\n",
              "      <td>0.5</td>\n",
              "      <td>White</td>\n",
              "      <td>Male</td>\n",
              "      <td>20-29</td>\n",
              "      <td>001</td>\n",
              "      <td>42</td>\n",
              "    </tr>\n",
              "    <tr>\n",
              "      <th>1</th>\n",
              "      <td>/content/AFEW-VA_aligned/001/00001.jpg</td>\n",
              "      <td>0.0</td>\n",
              "      <td>0.5</td>\n",
              "      <td>White</td>\n",
              "      <td>Male</td>\n",
              "      <td>20-29</td>\n",
              "      <td>001</td>\n",
              "      <td>42</td>\n",
              "    </tr>\n",
              "    <tr>\n",
              "      <th>2</th>\n",
              "      <td>/content/AFEW-VA_aligned/001/00002.jpg</td>\n",
              "      <td>0.0</td>\n",
              "      <td>0.5</td>\n",
              "      <td>White</td>\n",
              "      <td>Male</td>\n",
              "      <td>20-29</td>\n",
              "      <td>001</td>\n",
              "      <td>42</td>\n",
              "    </tr>\n",
              "    <tr>\n",
              "      <th>3</th>\n",
              "      <td>/content/AFEW-VA_aligned/001/00003.jpg</td>\n",
              "      <td>0.0</td>\n",
              "      <td>0.5</td>\n",
              "      <td>White</td>\n",
              "      <td>Male</td>\n",
              "      <td>20-29</td>\n",
              "      <td>001</td>\n",
              "      <td>42</td>\n",
              "    </tr>\n",
              "    <tr>\n",
              "      <th>4</th>\n",
              "      <td>/content/AFEW-VA_aligned/001/00004.jpg</td>\n",
              "      <td>0.0</td>\n",
              "      <td>0.5</td>\n",
              "      <td>White</td>\n",
              "      <td>Male</td>\n",
              "      <td>20-29</td>\n",
              "      <td>001</td>\n",
              "      <td>42</td>\n",
              "    </tr>\n",
              "    <tr>\n",
              "      <th>...</th>\n",
              "      <td>...</td>\n",
              "      <td>...</td>\n",
              "      <td>...</td>\n",
              "      <td>...</td>\n",
              "      <td>...</td>\n",
              "      <td>...</td>\n",
              "      <td>...</td>\n",
              "      <td>...</td>\n",
              "    </tr>\n",
              "    <tr>\n",
              "      <th>12152</th>\n",
              "      <td>/content/AFEW-VA_aligned/241/00084.jpg</td>\n",
              "      <td>0.2</td>\n",
              "      <td>0.3</td>\n",
              "      <td>White</td>\n",
              "      <td>Male</td>\n",
              "      <td>20-29</td>\n",
              "      <td>241</td>\n",
              "      <td>89</td>\n",
              "    </tr>\n",
              "    <tr>\n",
              "      <th>12153</th>\n",
              "      <td>/content/AFEW-VA_aligned/241/00085.jpg</td>\n",
              "      <td>0.2</td>\n",
              "      <td>0.3</td>\n",
              "      <td>White</td>\n",
              "      <td>Male</td>\n",
              "      <td>20-29</td>\n",
              "      <td>241</td>\n",
              "      <td>89</td>\n",
              "    </tr>\n",
              "    <tr>\n",
              "      <th>12154</th>\n",
              "      <td>/content/AFEW-VA_aligned/241/00086.jpg</td>\n",
              "      <td>0.2</td>\n",
              "      <td>0.3</td>\n",
              "      <td>White</td>\n",
              "      <td>Male</td>\n",
              "      <td>20-29</td>\n",
              "      <td>241</td>\n",
              "      <td>89</td>\n",
              "    </tr>\n",
              "    <tr>\n",
              "      <th>12155</th>\n",
              "      <td>/content/AFEW-VA_aligned/241/00087.jpg</td>\n",
              "      <td>0.2</td>\n",
              "      <td>0.3</td>\n",
              "      <td>White</td>\n",
              "      <td>Male</td>\n",
              "      <td>20-29</td>\n",
              "      <td>241</td>\n",
              "      <td>89</td>\n",
              "    </tr>\n",
              "    <tr>\n",
              "      <th>12156</th>\n",
              "      <td>/content/AFEW-VA_aligned/241/00088.jpg</td>\n",
              "      <td>0.2</td>\n",
              "      <td>0.3</td>\n",
              "      <td>White</td>\n",
              "      <td>Male</td>\n",
              "      <td>20-29</td>\n",
              "      <td>241</td>\n",
              "      <td>89</td>\n",
              "    </tr>\n",
              "  </tbody>\n",
              "</table>\n",
              "<p>12157 rows × 8 columns</p>\n",
              "</div>\n",
              "      <button class=\"colab-df-convert\" onclick=\"convertToInteractive('df-9f146ceb-4532-441c-8209-86474448ba5a')\"\n",
              "              title=\"Convert this dataframe to an interactive table.\"\n",
              "              style=\"display:none;\">\n",
              "        \n",
              "  <svg xmlns=\"http://www.w3.org/2000/svg\" height=\"24px\"viewBox=\"0 0 24 24\"\n",
              "       width=\"24px\">\n",
              "    <path d=\"M0 0h24v24H0V0z\" fill=\"none\"/>\n",
              "    <path d=\"M18.56 5.44l.94 2.06.94-2.06 2.06-.94-2.06-.94-.94-2.06-.94 2.06-2.06.94zm-11 1L8.5 8.5l.94-2.06 2.06-.94-2.06-.94L8.5 2.5l-.94 2.06-2.06.94zm10 10l.94 2.06.94-2.06 2.06-.94-2.06-.94-.94-2.06-.94 2.06-2.06.94z\"/><path d=\"M17.41 7.96l-1.37-1.37c-.4-.4-.92-.59-1.43-.59-.52 0-1.04.2-1.43.59L10.3 9.45l-7.72 7.72c-.78.78-.78 2.05 0 2.83L4 21.41c.39.39.9.59 1.41.59.51 0 1.02-.2 1.41-.59l7.78-7.78 2.81-2.81c.8-.78.8-2.07 0-2.86zM5.41 20L4 18.59l7.72-7.72 1.47 1.35L5.41 20z\"/>\n",
              "  </svg>\n",
              "      </button>\n",
              "      \n",
              "  <style>\n",
              "    .colab-df-container {\n",
              "      display:flex;\n",
              "      flex-wrap:wrap;\n",
              "      gap: 12px;\n",
              "    }\n",
              "\n",
              "    .colab-df-convert {\n",
              "      background-color: #E8F0FE;\n",
              "      border: none;\n",
              "      border-radius: 50%;\n",
              "      cursor: pointer;\n",
              "      display: none;\n",
              "      fill: #1967D2;\n",
              "      height: 32px;\n",
              "      padding: 0 0 0 0;\n",
              "      width: 32px;\n",
              "    }\n",
              "\n",
              "    .colab-df-convert:hover {\n",
              "      background-color: #E2EBFA;\n",
              "      box-shadow: 0px 1px 2px rgba(60, 64, 67, 0.3), 0px 1px 3px 1px rgba(60, 64, 67, 0.15);\n",
              "      fill: #174EA6;\n",
              "    }\n",
              "\n",
              "    [theme=dark] .colab-df-convert {\n",
              "      background-color: #3B4455;\n",
              "      fill: #D2E3FC;\n",
              "    }\n",
              "\n",
              "    [theme=dark] .colab-df-convert:hover {\n",
              "      background-color: #434B5C;\n",
              "      box-shadow: 0px 1px 3px 1px rgba(0, 0, 0, 0.15);\n",
              "      filter: drop-shadow(0px 1px 2px rgba(0, 0, 0, 0.3));\n",
              "      fill: #FFFFFF;\n",
              "    }\n",
              "  </style>\n",
              "\n",
              "      <script>\n",
              "        const buttonEl =\n",
              "          document.querySelector('#df-9f146ceb-4532-441c-8209-86474448ba5a button.colab-df-convert');\n",
              "        buttonEl.style.display =\n",
              "          google.colab.kernel.accessAllowed ? 'block' : 'none';\n",
              "\n",
              "        async function convertToInteractive(key) {\n",
              "          const element = document.querySelector('#df-9f146ceb-4532-441c-8209-86474448ba5a');\n",
              "          const dataTable =\n",
              "            await google.colab.kernel.invokeFunction('convertToInteractive',\n",
              "                                                     [key], {});\n",
              "          if (!dataTable) return;\n",
              "\n",
              "          const docLinkHtml = 'Like what you see? Visit the ' +\n",
              "            '<a target=\"_blank\" href=https://colab.research.google.com/notebooks/data_table.ipynb>data table notebook</a>'\n",
              "            + ' to learn more about interactive tables.';\n",
              "          element.innerHTML = '';\n",
              "          dataTable['output_type'] = 'display_data';\n",
              "          await google.colab.output.renderOutput(dataTable, element);\n",
              "          const docLink = document.createElement('div');\n",
              "          docLink.innerHTML = docLinkHtml;\n",
              "          element.appendChild(docLink);\n",
              "        }\n",
              "      </script>\n",
              "    </div>\n",
              "  </div>\n",
              "  "
            ]
          },
          "metadata": {},
          "execution_count": 55
        }
      ]
    },
    {
      "cell_type": "code",
      "source": [
        "aggregation_functions = {'gender': 'first', 'race': 'first', 'age': 'first','video':'first','frames':'first'}\n",
        "df_videos = df_all.groupby(df_all['video']).aggregate(aggregation_functions)"
      ],
      "metadata": {
        "id": "bNV8c5iW-NkX"
      },
      "execution_count": null,
      "outputs": []
    },
    {
      "cell_type": "code",
      "source": [
        "df_videos"
      ],
      "metadata": {
        "colab": {
          "base_uri": "https://localhost:8080/",
          "height": 455
        },
        "id": "8WN4fK3N-O86",
        "outputId": "bb76a623-8752-4a04-87f1-da8e467ae760"
      },
      "execution_count": null,
      "outputs": [
        {
          "output_type": "execute_result",
          "data": {
            "text/plain": [
              "       gender   race    age video  frames\n",
              "video                                    \n",
              "001      Male  White  20-29   001      42\n",
              "002      Male  White  30-39   002      58\n",
              "003    Female  White  20-29   003      39\n",
              "004      Male  White  40-49   004      21\n",
              "005      Male  White  20-29   005      18\n",
              "...       ...    ...    ...   ...     ...\n",
              "242      Male  White  40-49   242      86\n",
              "243    Female  White  20-29   243      33\n",
              "244    Female  White  30-39   244      57\n",
              "245    Female  White  20-29   245      30\n",
              "246    Female  White  20-29   246      11\n",
              "\n",
              "[246 rows x 5 columns]"
            ],
            "text/html": [
              "\n",
              "  <div id=\"df-713f8dfc-caf9-4ff0-b37c-58a32275fc56\">\n",
              "    <div class=\"colab-df-container\">\n",
              "      <div>\n",
              "<style scoped>\n",
              "    .dataframe tbody tr th:only-of-type {\n",
              "        vertical-align: middle;\n",
              "    }\n",
              "\n",
              "    .dataframe tbody tr th {\n",
              "        vertical-align: top;\n",
              "    }\n",
              "\n",
              "    .dataframe thead th {\n",
              "        text-align: right;\n",
              "    }\n",
              "</style>\n",
              "<table border=\"1\" class=\"dataframe\">\n",
              "  <thead>\n",
              "    <tr style=\"text-align: right;\">\n",
              "      <th></th>\n",
              "      <th>gender</th>\n",
              "      <th>race</th>\n",
              "      <th>age</th>\n",
              "      <th>video</th>\n",
              "      <th>frames</th>\n",
              "    </tr>\n",
              "    <tr>\n",
              "      <th>video</th>\n",
              "      <th></th>\n",
              "      <th></th>\n",
              "      <th></th>\n",
              "      <th></th>\n",
              "      <th></th>\n",
              "    </tr>\n",
              "  </thead>\n",
              "  <tbody>\n",
              "    <tr>\n",
              "      <th>001</th>\n",
              "      <td>Male</td>\n",
              "      <td>White</td>\n",
              "      <td>20-29</td>\n",
              "      <td>001</td>\n",
              "      <td>42</td>\n",
              "    </tr>\n",
              "    <tr>\n",
              "      <th>002</th>\n",
              "      <td>Male</td>\n",
              "      <td>White</td>\n",
              "      <td>30-39</td>\n",
              "      <td>002</td>\n",
              "      <td>58</td>\n",
              "    </tr>\n",
              "    <tr>\n",
              "      <th>003</th>\n",
              "      <td>Female</td>\n",
              "      <td>White</td>\n",
              "      <td>20-29</td>\n",
              "      <td>003</td>\n",
              "      <td>39</td>\n",
              "    </tr>\n",
              "    <tr>\n",
              "      <th>004</th>\n",
              "      <td>Male</td>\n",
              "      <td>White</td>\n",
              "      <td>40-49</td>\n",
              "      <td>004</td>\n",
              "      <td>21</td>\n",
              "    </tr>\n",
              "    <tr>\n",
              "      <th>005</th>\n",
              "      <td>Male</td>\n",
              "      <td>White</td>\n",
              "      <td>20-29</td>\n",
              "      <td>005</td>\n",
              "      <td>18</td>\n",
              "    </tr>\n",
              "    <tr>\n",
              "      <th>...</th>\n",
              "      <td>...</td>\n",
              "      <td>...</td>\n",
              "      <td>...</td>\n",
              "      <td>...</td>\n",
              "      <td>...</td>\n",
              "    </tr>\n",
              "    <tr>\n",
              "      <th>242</th>\n",
              "      <td>Male</td>\n",
              "      <td>White</td>\n",
              "      <td>40-49</td>\n",
              "      <td>242</td>\n",
              "      <td>86</td>\n",
              "    </tr>\n",
              "    <tr>\n",
              "      <th>243</th>\n",
              "      <td>Female</td>\n",
              "      <td>White</td>\n",
              "      <td>20-29</td>\n",
              "      <td>243</td>\n",
              "      <td>33</td>\n",
              "    </tr>\n",
              "    <tr>\n",
              "      <th>244</th>\n",
              "      <td>Female</td>\n",
              "      <td>White</td>\n",
              "      <td>30-39</td>\n",
              "      <td>244</td>\n",
              "      <td>57</td>\n",
              "    </tr>\n",
              "    <tr>\n",
              "      <th>245</th>\n",
              "      <td>Female</td>\n",
              "      <td>White</td>\n",
              "      <td>20-29</td>\n",
              "      <td>245</td>\n",
              "      <td>30</td>\n",
              "    </tr>\n",
              "    <tr>\n",
              "      <th>246</th>\n",
              "      <td>Female</td>\n",
              "      <td>White</td>\n",
              "      <td>20-29</td>\n",
              "      <td>246</td>\n",
              "      <td>11</td>\n",
              "    </tr>\n",
              "  </tbody>\n",
              "</table>\n",
              "<p>246 rows × 5 columns</p>\n",
              "</div>\n",
              "      <button class=\"colab-df-convert\" onclick=\"convertToInteractive('df-713f8dfc-caf9-4ff0-b37c-58a32275fc56')\"\n",
              "              title=\"Convert this dataframe to an interactive table.\"\n",
              "              style=\"display:none;\">\n",
              "        \n",
              "  <svg xmlns=\"http://www.w3.org/2000/svg\" height=\"24px\"viewBox=\"0 0 24 24\"\n",
              "       width=\"24px\">\n",
              "    <path d=\"M0 0h24v24H0V0z\" fill=\"none\"/>\n",
              "    <path d=\"M18.56 5.44l.94 2.06.94-2.06 2.06-.94-2.06-.94-.94-2.06-.94 2.06-2.06.94zm-11 1L8.5 8.5l.94-2.06 2.06-.94-2.06-.94L8.5 2.5l-.94 2.06-2.06.94zm10 10l.94 2.06.94-2.06 2.06-.94-2.06-.94-.94-2.06-.94 2.06-2.06.94z\"/><path d=\"M17.41 7.96l-1.37-1.37c-.4-.4-.92-.59-1.43-.59-.52 0-1.04.2-1.43.59L10.3 9.45l-7.72 7.72c-.78.78-.78 2.05 0 2.83L4 21.41c.39.39.9.59 1.41.59.51 0 1.02-.2 1.41-.59l7.78-7.78 2.81-2.81c.8-.78.8-2.07 0-2.86zM5.41 20L4 18.59l7.72-7.72 1.47 1.35L5.41 20z\"/>\n",
              "  </svg>\n",
              "      </button>\n",
              "      \n",
              "  <style>\n",
              "    .colab-df-container {\n",
              "      display:flex;\n",
              "      flex-wrap:wrap;\n",
              "      gap: 12px;\n",
              "    }\n",
              "\n",
              "    .colab-df-convert {\n",
              "      background-color: #E8F0FE;\n",
              "      border: none;\n",
              "      border-radius: 50%;\n",
              "      cursor: pointer;\n",
              "      display: none;\n",
              "      fill: #1967D2;\n",
              "      height: 32px;\n",
              "      padding: 0 0 0 0;\n",
              "      width: 32px;\n",
              "    }\n",
              "\n",
              "    .colab-df-convert:hover {\n",
              "      background-color: #E2EBFA;\n",
              "      box-shadow: 0px 1px 2px rgba(60, 64, 67, 0.3), 0px 1px 3px 1px rgba(60, 64, 67, 0.15);\n",
              "      fill: #174EA6;\n",
              "    }\n",
              "\n",
              "    [theme=dark] .colab-df-convert {\n",
              "      background-color: #3B4455;\n",
              "      fill: #D2E3FC;\n",
              "    }\n",
              "\n",
              "    [theme=dark] .colab-df-convert:hover {\n",
              "      background-color: #434B5C;\n",
              "      box-shadow: 0px 1px 3px 1px rgba(0, 0, 0, 0.15);\n",
              "      filter: drop-shadow(0px 1px 2px rgba(0, 0, 0, 0.3));\n",
              "      fill: #FFFFFF;\n",
              "    }\n",
              "  </style>\n",
              "\n",
              "      <script>\n",
              "        const buttonEl =\n",
              "          document.querySelector('#df-713f8dfc-caf9-4ff0-b37c-58a32275fc56 button.colab-df-convert');\n",
              "        buttonEl.style.display =\n",
              "          google.colab.kernel.accessAllowed ? 'block' : 'none';\n",
              "\n",
              "        async function convertToInteractive(key) {\n",
              "          const element = document.querySelector('#df-713f8dfc-caf9-4ff0-b37c-58a32275fc56');\n",
              "          const dataTable =\n",
              "            await google.colab.kernel.invokeFunction('convertToInteractive',\n",
              "                                                     [key], {});\n",
              "          if (!dataTable) return;\n",
              "\n",
              "          const docLinkHtml = 'Like what you see? Visit the ' +\n",
              "            '<a target=\"_blank\" href=https://colab.research.google.com/notebooks/data_table.ipynb>data table notebook</a>'\n",
              "            + ' to learn more about interactive tables.';\n",
              "          element.innerHTML = '';\n",
              "          dataTable['output_type'] = 'display_data';\n",
              "          await google.colab.output.renderOutput(dataTable, element);\n",
              "          const docLink = document.createElement('div');\n",
              "          docLink.innerHTML = docLinkHtml;\n",
              "          element.appendChild(docLink);\n",
              "        }\n",
              "      </script>\n",
              "    </div>\n",
              "  </div>\n",
              "  "
            ]
          },
          "metadata": {},
          "execution_count": 57
        }
      ]
    },
    {
      "cell_type": "code",
      "source": [
        "#create bins directory\n",
        "categories = []\n",
        "for gender in GENDERS:\n",
        "  for race in RACES:\n",
        "    for age in AGES:\n",
        "      categories.append(tuple((gender,race,age)))\n",
        "bins = dict.fromkeys(categories)\n",
        "\n",
        "#fill bins \n",
        "for gender in GENDERS:\n",
        "  for race in RACES:\n",
        "    for age in AGES:\n",
        "      print(\"gender:\",gender,\"race:\",race,\"age:\",age)\n",
        "      bin = []\n",
        "      for video in df_videos['video']:\n",
        "        if ((df_videos.loc[df_videos.video ==\tvideo,'gender'] == gender).bool() and \n",
        "                (df_videos.loc[df_videos.video ==\tvideo,'race'] == race).bool() and \n",
        "                (df_videos.loc[df_videos.video ==\tvideo,'age'] == age).bool()):\n",
        "          bin.append(video)\n",
        "      bins[(gender,race,age)] = bin\n",
        "  "
      ],
      "metadata": {
        "id": "LM8Jga6T-E1r"
      },
      "execution_count": null,
      "outputs": []
    },
    {
      "cell_type": "code",
      "source": [
        "# all frames of each bin\n",
        "bin_frames_all = {}\n",
        "# frames of each video\n",
        "video_frames = {}\n",
        "for bin,value in bins.items():\n",
        "  bin_frames = []\n",
        "  for video in value:\n",
        "    frames = df_videos.loc[df_videos.video==video,'frames'].item()\n",
        "    bin_frames.append(frames)\n",
        "    video_frames[video] =frames\n",
        "  bin_frames_all[bin] = sum(bin_frames)\n",
        "  print(\"Bin: {} \\nNumber of Videos: {} \\nVideos: {}  \\nFrames: {} \\nFrames in bin: {}\\n\".format(bin,len(value),value,bin_frames,bin_frames_all[bin]))\n"
      ],
      "metadata": {
        "id": "ccCf4J-P-v2C"
      },
      "execution_count": null,
      "outputs": []
    },
    {
      "cell_type": "code",
      "source": [
        "train_set_videos = ['057','156','199','045','033','182', '241', '054', '158', '083', '145', '017', '021', '153', '039', '204', '186', '076','008', '144', '206', '230', '098', '238', '200', '014', '147', '031', '088', '152', '082', '002', '127', '216','181', '242', '187', '174', '086', '165', '004','133', '215', '071', '070', '211', '212', '163', '052','055', '246','011', '178', '148', '154', '213', '099', '161', '137', '191', '073', '227', '220', '195', '111', '061', '067', '112', '048', '036', '053', '226', '131', '118', '201', '177', '175', '026', '244', '104','171', '236','050', '074', '218','084', '164', '168','035']\n",
        "\n",
        "test_set_videos= ['092','058','149','185','022', '023', '024', '116', '094', '038', '172', '208', '001', '225', '235', '129', '020', '130', '117','134', '108', '096', '217', '051', '095', '188', '162', '194', '034', '193', '169', '068', '124', '090', '167', '069', '091', '128','016', '180', '179', '107', '232', '173', '047', '037','063','006','234','123','192','081','184','219', '089','239', '210', '135', '214', '114', '044', '119', '228', '151', '003', '007', '198', '159', '028', '240', '209', '043', '243', '245','221', '065', '101', '125', '010', '102', '062', '066', '097', '018', '132','113','120','121','025','106']\n",
        "\n",
        "val_set_videos =  ['030','079','087', '140', '139', '041', '142', '029', '233', '077', '229', '080', '190', '005', '078', '231','049', '207', '203', '012', '138', '166', '222', '064', '224', '143', '237', '027','115', '146', '019', '183', '105', '110','197', '196', '040', '072', '060','160', '155', '046', '042', '103', '056', '126', '109', '009', '141', '223', '150', '032', '136', '059', '202','170', '189', '075', '015', '093', '205', '085', '176', '122','100','157','013']"
      ],
      "metadata": {
        "id": "I_y1V4mB-0Bm"
      },
      "execution_count": null,
      "outputs": []
    },
    {
      "cell_type": "code",
      "source": [
        "len(train_set_videos)+len(val_set_videos)+len(test_set_videos)"
      ],
      "metadata": {
        "colab": {
          "base_uri": "https://localhost:8080/"
        },
        "id": "s3n6QpKGTN7L",
        "outputId": "2a24bb7d-403a-4db5-85d9-f6fd05a4b0fe"
      },
      "execution_count": null,
      "outputs": [
        {
          "output_type": "execute_result",
          "data": {
            "text/plain": [
              "246"
            ]
          },
          "metadata": {},
          "execution_count": 59
        }
      ]
    },
    {
      "cell_type": "code",
      "source": [
        "len(train_set_videos),len(val_set_videos),len(test_set_videos)"
      ],
      "metadata": {
        "colab": {
          "base_uri": "https://localhost:8080/"
        },
        "id": "9K3mcHPrR8eR",
        "outputId": "d09f702d-d854-4ddf-8923-57fad1ebd865"
      },
      "execution_count": null,
      "outputs": [
        {
          "output_type": "execute_result",
          "data": {
            "text/plain": [
              "(89, 67, 90)"
            ]
          },
          "metadata": {},
          "execution_count": 60
        }
      ]
    },
    {
      "cell_type": "code",
      "source": [
        "df_train_fair = df_all[df_all['video'].isin(train_set_videos)].reset_index(drop=True)\n",
        "df_validation_fair = df_all[df_all['video'].isin(val_set_videos)].reset_index(drop=True)\n",
        "df_test_fair = df_all[df_all['video'].isin(test_set_videos)].reset_index(drop=True)"
      ],
      "metadata": {
        "id": "LWs-qsSvjdvz"
      },
      "execution_count": null,
      "outputs": []
    },
    {
      "cell_type": "code",
      "source": [
        "def show_v_a_distribution(df_train,df_val,df_test):\n",
        " \n",
        "  sets = ['train','validation','test']\n",
        "  fig,axs = plt.subplots(figsize =(18, 5),ncols=3) \n",
        "  fig.suptitle('AFTER split', fontsize=10)\n",
        "  for i,df in enumerate([df_train,df_val,df_test]):\n",
        "    x = df['arousal']\n",
        "    y = df['valence']\n",
        "    hist = axs[i].hist2d(x, y,range =  [[-1, 1], [-1, 1]])\n",
        "    axs[i].set_xlabel('arousal', fontsize=12)\n",
        "    axs[i].set_ylabel('valence', fontsize=12)\n",
        "    axs[i].set_title(\"Distribution of {} set\".format(sets[i]), fontsize=15)\n",
        "    fig.colorbar(hist[3], ax=axs[i])\n"
      ],
      "metadata": {
        "id": "gK4YvejxIbNp"
      },
      "execution_count": null,
      "outputs": []
    },
    {
      "cell_type": "code",
      "source": [
        "def plot_samples(category,names,train_counter,val_counter,test_counter):\n",
        "  fig, axs = plt.subplots(figsize=(20, 4), ncols=3, constrained_layout=True)\n",
        "  fig.suptitle('Database: AFEWVA\\nTask: valence and arousal estimation \\nAFTER split', fontsize=15)\n",
        "  sets = ['train','validation','test']\n",
        "  for i,set_counter in enumerate([train_counter,val_counter,test_counter]):\n",
        "    names_list = [name for name in names]\n",
        "    axs[i].bar(names_list,set_counter,color='c',  edgecolor='black')\n",
        "    axs[i].set_title(\"{} for {} set\".format(category,sets[i]),fontsize=15)"
      ],
      "metadata": {
        "id": "EgS4hKqTImOc"
      },
      "execution_count": null,
      "outputs": []
    },
    {
      "cell_type": "code",
      "source": [
        "show_v_a_distribution(df_train_fair,df_validation_fair,df_test_fair)"
      ],
      "metadata": {
        "id": "GMMC4N_wA7qg",
        "colab": {
          "base_uri": "https://localhost:8080/",
          "height": 373
        },
        "outputId": "537b8857-1e62-486e-a953-42eced86efdb"
      },
      "execution_count": null,
      "outputs": [
        {
          "output_type": "display_data",
          "data": {
            "text/plain": [
              "<Figure size 1296x360 with 6 Axes>"
            ],
            "image/png": "[encoded data removed]"
          },
          "metadata": {
            "needs_background": "light"
          }
        }
      ]
    },
    {
      "cell_type": "markdown",
      "source": [
        "## data distribution"
      ],
      "metadata": {
        "id": "aYOFjZexPPNL"
      }
    },
    {
      "cell_type": "code",
      "source": [
        "race_names = ['White','Black','Asian','Indian']\n",
        "\n",
        "race_counter_train = []\n",
        "for i in range(len(race_names)):\n",
        "  race_counter_train.append(len(df_train_fair[df_train_fair['race']==race_names[i]]))\n",
        "\n",
        "race_counter_val = []\n",
        "for i in range(len(race_names)):\n",
        "  race_counter_val.append(len(df_validation_fair[df_validation_fair['race']==race_names[i]]))\n",
        "\n",
        "race_counter_test = []\n",
        "for i in range(len(race_names)):\n",
        "  race_counter_test.append(len(df_test_fair[df_test_fair['race']==race_names[i]]))\n",
        "\n",
        "plot_samples('Race',race_names,race_counter_train,race_counter_val,race_counter_test)\n"
      ],
      "metadata": {
        "colab": {
          "base_uri": "https://localhost:8080/",
          "height": 258
        },
        "outputId": "63583889-f2c5-479a-cfc4-c4294f7aaa02",
        "id": "Ewap9apPO1Sv"
      },
      "execution_count": null,
      "outputs": [
        {
          "output_type": "display_data",
          "data": {
            "text/plain": [
              "<Figure size 1440x288 with 3 Axes>"
            ],
            "image/png": "[encoded data removed]"
          },
          "metadata": {
            "needs_background": "light"
          }
        }
      ]
    },
    {
      "cell_type": "code",
      "source": [
        "print(race_counter_train)\n",
        "print(race_counter_val)\n",
        "print(race_counter_test)"
      ],
      "metadata": {
        "colab": {
          "base_uri": "https://localhost:8080/"
        },
        "id": "n1eP_GjHIvQB",
        "outputId": "be2cd754-4969-418b-d468-59d5c0a3c8cb"
      },
      "execution_count": null,
      "outputs": [
        {
          "output_type": "stream",
          "name": "stdout",
          "text": [
            "[6026, 85, 210, 24]\n",
            "[1681, 0, 20, 0]\n",
            "[3446, 285, 329, 51]\n"
          ]
        }
      ]
    },
    {
      "cell_type": "code",
      "source": [
        "gender_names = ['Male','Female']\n",
        "\n",
        "gender_counter_train = []\n",
        "for i in range(len(gender_names)):\n",
        "  gender_counter_train.append(len(df_train_fair[df_train_fair['gender']==gender_names[i]]))\n",
        "\n",
        "gender_counter_val = []\n",
        "for i in range(len(gender_names)):\n",
        "  gender_counter_val.append(len(df_validation_fair[df_validation_fair['gender']==gender_names[i]]))\n",
        "\n",
        "gender_counter_test = []\n",
        "for i in range(len(gender_names)):\n",
        "  gender_counter_test.append(len(df_test_fair[df_test_fair['gender']==gender_names[i]]))\n",
        "\n",
        "plot_samples('Gender',gender_names,gender_counter_train,gender_counter_val,gender_counter_test)\n"
      ],
      "metadata": {
        "colab": {
          "base_uri": "https://localhost:8080/",
          "height": 258
        },
        "outputId": "d20e0dda-ed33-461e-c059-cffb0c7c7e0e",
        "id": "TlV5g2ZAO1S5"
      },
      "execution_count": null,
      "outputs": [
        {
          "output_type": "display_data",
          "data": {
            "text/plain": [
              "<Figure size 1440x288 with 3 Axes>"
            ],
            "image/png": "[encoded data removed]"
          },
          "metadata": {
            "needs_background": "light"
          }
        }
      ]
    },
    {
      "cell_type": "code",
      "source": [
        "print(gender_counter_train)\n",
        "print(gender_counter_val)\n",
        "print(gender_counter_test)"
      ],
      "metadata": {
        "colab": {
          "base_uri": "https://localhost:8080/"
        },
        "id": "K8FhLepjIsLx",
        "outputId": "a9837a06-4d25-473b-c3b7-78269a360eaf"
      },
      "execution_count": null,
      "outputs": [
        {
          "output_type": "stream",
          "name": "stdout",
          "text": [
            "[3595, 2750]\n",
            "[1012, 689]\n",
            "[2458, 1653]\n"
          ]
        }
      ]
    },
    {
      "cell_type": "code",
      "source": [
        "\n",
        "age_names = ['0-2','3-9','10-19','20-29','30-39','40-49','50-59','60-69','70+']\n",
        "\n",
        "age_counter_train = []\n",
        "for i in range(len(age_names)):\n",
        "  age_counter_train.append(len(df_train_fair[df_train_fair['age']==age_names[i]]))\n",
        "\n",
        "age_counter_val = []\n",
        "for i in range(len(age_names)):\n",
        "  age_counter_val.append(len(df_validation_fair[df_validation_fair['age']==age_names[i]]))\n",
        "\n",
        "age_counter_test = []\n",
        "for i in range(len(age_names)):\n",
        "  age_counter_test.append(len(df_test_fair[df_test_fair['age']==age_names[i]]))\n",
        "\n",
        "plot_samples('Age',age_names,age_counter_train,age_counter_val,age_counter_test)\n"
      ],
      "metadata": {
        "colab": {
          "base_uri": "https://localhost:8080/",
          "height": 258
        },
        "outputId": "fdc48a5b-59b5-4ab5-ce98-38d2204c02a9",
        "id": "9MB0RA-wO1S6"
      },
      "execution_count": null,
      "outputs": [
        {
          "output_type": "display_data",
          "data": {
            "text/plain": [
              "<Figure size 1440x288 with 3 Axes>"
            ],
            "image/png": "[encoded data removed]"
          },
          "metadata": {
            "needs_background": "light"
          }
        }
      ]
    },
    {
      "cell_type": "code",
      "source": [
        "print(age_counter_train)\n",
        "print(age_counter_val)\n",
        "print(age_counter_test)"
      ],
      "metadata": {
        "colab": {
          "base_uri": "https://localhost:8080/"
        },
        "id": "OGUP4woeI1Fz",
        "outputId": "ed348981-abfe-4b2e-c63d-bcc243019b08"
      },
      "execution_count": null,
      "outputs": [
        {
          "output_type": "stream",
          "name": "stdout",
          "text": [
            "[0, 0, 330, 2602, 2020, 725, 668, 0, 0]\n",
            "[0, 0, 74, 691, 543, 204, 189, 0, 0]\n",
            "[61, 77, 205, 1509, 1181, 544, 356, 119, 59]\n"
          ]
        }
      ]
    },
    {
      "cell_type": "code",
      "source": [
        "show_v_a_distribution(df_train_fair,df_validation_fair,df_test_fair)"
      ],
      "metadata": {
        "colab": {
          "base_uri": "https://localhost:8080/",
          "height": 373
        },
        "id": "VY-mw-DLPGGM",
        "outputId": "8107bc32-cf43-4df4-b276-bb76bea4a0d0"
      },
      "execution_count": null,
      "outputs": [
        {
          "output_type": "display_data",
          "data": {
            "text/plain": [
              "<Figure size 1296x360 with 6 Axes>"
            ],
            "image/png": "[encoded data removed]"
          },
          "metadata": {
            "needs_background": "light"
          }
        }
      ]
    },
    {
      "cell_type": "markdown",
      "metadata": {
        "id": "eyCbA9uB_IFy"
      },
      "source": [
        "## data preprocessing "
      ]
    },
    {
      "cell_type": "code",
      "execution_count": null,
      "metadata": {
        "id": "VQxEHjYM_IF8"
      },
      "outputs": [],
      "source": [
        "# get batches of tensor image data (rescaled to 0-1)\n",
        "train_datagen = ImageDataGenerator(rescale=1./255)#,horizontal_flip=True,brightness_range=[0.2,1.0])\n",
        "test_datagen = ImageDataGenerator(rescale=1./255)#,horizontal_flip=True,brightness_range=[0.2,1.0])"
      ]
    },
    {
      "cell_type": "code",
      "source": [
        "batch_size = 128\n",
        "#load and iterate training dataset\n",
        "train_generator = train_datagen.flow_from_dataframe(\n",
        "    df_train_fair,\n",
        "    x_col='face_name_align',\n",
        "    y_col=['valence','arousal'], #multitask\n",
        "    target_size=(112, 112), \n",
        "    color_mode='rgb',\n",
        "    class_mode='raw', #regression\n",
        "    batch_size=batch_size\n",
        ")\n",
        "# load and iterate validation dataset\n",
        "validation_generator = test_datagen.flow_from_dataframe(\n",
        "    df_validation_fair,\n",
        "    x_col='face_name_align',\n",
        "    y_col=['valence','arousal'],\n",
        "    target_size=(112, 112), \n",
        "    color_mode='rgb',\n",
        "    class_mode='raw',\n",
        "    batch_size=batch_size\n",
        ")\n",
        "\n",
        "# load and iterate test dataset\n",
        "test_generator = test_datagen.flow_from_dataframe(\n",
        "    df_test_fair,\n",
        "    x_col='face_name_align',\n",
        "    y_col=['valence','arousal'],\n",
        "    target_size=(112, 112), \n",
        "    color_mode='rgb',\n",
        "    class_mode='raw',\n",
        "    batch_size=batch_size,\n",
        "    shuffle = False\n",
        ")\n"
      ],
      "metadata": {
        "colab": {
          "base_uri": "https://localhost:8080/"
        },
        "outputId": "59c193e1-52f8-4789-fff1-35179063e129",
        "id": "uij9hHg6_IF9"
      },
      "execution_count": null,
      "outputs": [
        {
          "output_type": "stream",
          "name": "stdout",
          "text": [
            "Found 6345 validated image filenames.\n",
            "Found 1701 validated image filenames.\n",
            "Found 4111 validated image filenames.\n"
          ]
        }
      ]
    },
    {
      "cell_type": "markdown",
      "source": [
        "## training"
      ],
      "metadata": {
        "id": "HaF37sVt_g6i"
      }
    },
    {
      "cell_type": "code",
      "source": [
        "#pretrained model \n",
        "base_model =  tf.keras.applications.ResNet50(\n",
        "    include_top=False, #custume input and output layers based on our data\n",
        "    weights=\"imagenet\", #use weights from imagenet training \n",
        "    input_shape=(112,112,3),\n",
        "    pooling='avg',\n",
        ")\n",
        "\n",
        "#use functional API to allow multiple outputs\n",
        "# input shape\n",
        "inputs = tf.keras.Input(shape=(112, 112, 3))\n",
        "# model architecture\n",
        "x = base_model(inputs, training=True)\n",
        "#x = Dense(512, activation=\"relu\")(x)\n",
        "#x = Dropout(0.2)(x)\n",
        "#x = Dense(512,activation= \"relu\")(x)\n",
        "\n",
        "#output --> 2 tasks: valence & arousal\n",
        "outputs = tf.keras.layers.Dense(2,activation=\"linear\")(x) #change to tanh and see results\n",
        "model = tf.keras.Model(inputs, outputs)\n",
        "  "
      ],
      "metadata": {
        "id": "qTTGohO__fh-"
      },
      "execution_count": null,
      "outputs": []
    },
    {
      "cell_type": "code",
      "source": [
        "#compile model\n",
        "model.compile(optimizer=Adam(learning_rate=0.0001),\n",
        "                     loss= concordance_cc2_loss) \n",
        "                     # metrics=['mae',pearson_r] mean absolute error, Pearsons Correlation Coefficient"
      ],
      "metadata": {
        "id": "FSelhXZK_fh_"
      },
      "execution_count": null,
      "outputs": []
    },
    {
      "cell_type": "code",
      "source": [
        "model.summary()"
      ],
      "metadata": {
        "colab": {
          "base_uri": "https://localhost:8080/"
        },
        "id": "gFwQw2fqfX55",
        "outputId": "abf89aa8-bedf-4e19-fcc2-78b8736d724f"
      },
      "execution_count": null,
      "outputs": [
        {
          "output_type": "stream",
          "name": "stdout",
          "text": [
            "Model: \"model_4\"\n",
            "_________________________________________________________________\n",
            " Layer (type)                Output Shape              Param #   \n",
            "=================================================================\n",
            " input_10 (InputLayer)       [(None, 112, 112, 3)]     0         \n",
            "                                                                 \n",
            " resnet50 (Functional)       (None, 2048)              23587712  \n",
            "                                                                 \n",
            " dense_4 (Dense)             (None, 2)                 4098      \n",
            "                                                                 \n",
            "=================================================================\n",
            "Total params: 23,591,810\n",
            "Trainable params: 23,538,690\n",
            "Non-trainable params: 53,120\n",
            "_________________________________________________________________\n"
          ]
        }
      ]
    },
    {
      "cell_type": "code",
      "source": [
        "#checkpoint\n",
        "filepath = \"/content/gdrive/MyDrive/train_net/ckp_models/AFEW-VA/AFEW-VA_simple/AFEWVA_before_lr4_b128/AFEWVA-{epoch:02d}.h5\"\n",
        "\n",
        "checkpoint = ModelCheckpoint(  \n",
        "    filepath,\n",
        "    monitor=\"val_loss\",\n",
        "    verbose=1,\n",
        "    save_best_only=False,\n",
        "    save_weights_only=False,\n",
        "    mode=\"auto\",\n",
        "    save_freq=\"epoch\")\n",
        "\n",
        "callbacks_list = [checkpoint]\n",
        "\n",
        "\n",
        "#fit model\n",
        "history = model.fit(train_generator,validation_data=validation_generator,epochs=20,callbacks=callbacks_list)\n"
      ],
      "metadata": {
        "id": "eB7g2Mc8_fh_"
      },
      "execution_count": null,
      "outputs": []
    },
    {
      "cell_type": "markdown",
      "metadata": {
        "id": "KSSQ_ltsPayy"
      },
      "source": [
        "## evaluation\n"
      ]
    },
    {
      "cell_type": "code",
      "source": [
        "models_labels = {}\n",
        "models_predictions = {}\n",
        "models_directory = '/content/gdrive/MyDrive/train_net/ckp_models/AFEW-VA/AFEW-VA_simple/AFEWVA_before_lr4_b128'\n",
        "for saved_model in (os.listdir(models_directory)):\n",
        "  if saved_model != '.ipynb_checkpoints':\n",
        "    print(saved_model)\n",
        "    model = tf.keras.models.load_model(os.path.join(models_directory,saved_model),custom_objects={'concordance_cc2_loss':concordance_cc2_loss})\n",
        "    models_labels[saved_model[:-3]] = test_generator.labels\n",
        "    models_predictions[saved_model[:-3]] = model.predict(test_generator)\n"
      ],
      "metadata": {
        "id": "0BG-omAYRq36"
      },
      "execution_count": null,
      "outputs": []
    },
    {
      "cell_type": "code",
      "source": [
        "for model_name in models_labels.keys():\n",
        "  \n",
        "  valence_labels= []\n",
        "  valence_predictions = []\n",
        "  arousal_labels = []\n",
        "  arousal_predictions = []\n",
        "\n",
        "  labels,predictions = models_labels[model_name],models_predictions[model_name]\n",
        "  valence_labels,valence_predictions,arousal_labels,arousal_predictions = valence_arousal(labels,predictions)\n",
        "\n",
        "  print(\"Model Name: =\",model_name)\n",
        "  correlation_v,mse_v,mae_v = correlation_mse_mae(valence_labels,valence_predictions)\n",
        "  correlation_a,mse_a,mae_a = correlation_mse_mae(arousal_labels,arousal_predictions)\n",
        "  data = [[\"Correlation\",correlation_v,correlation_a],[\"Mean Squared Error\",mse_v,mse_a],[\"Mean Absolute Error\",mae_v,mae_a]]\n",
        "  print(tabulate(data, headers=[\" Valence\",\"Arousal\"]))\n",
        "  print('\\n\\n')"
      ],
      "metadata": {
        "id": "X524MGXluaPr"
      },
      "execution_count": null,
      "outputs": []
    },
    {
      "cell_type": "code",
      "source": [
        "best_model_name = 'AFEWVA-06'\n",
        "best_model = tf.keras.models.load_model(os.path.join(models_directory,\"{}.h5\".format(best_model_name)),custom_objects={'concordance_cc2_loss':concordance_cc2_loss})\n"
      ],
      "metadata": {
        "id": "JXMkT8MmRx5R"
      },
      "execution_count": null,
      "outputs": []
    },
    {
      "cell_type": "code",
      "source": [
        "y_true_race,y_pred_race,counter_race = predictions_labels_category(test_generator,df_test_fair,\n",
        "                                                      models_labels[best_model_name],models_predictions[best_model_name],\n",
        "                                                      RACES,'race')\n",
        "\n",
        "y_true_age,y_pred_age,counter_age = predictions_labels_category(test_generator,df_test_fair,\n",
        "                                                    models_labels[best_model_name],models_predictions[best_model_name],\n",
        "                                                    AGES,'age')\n",
        "\n",
        "y_true_gender,y_pred_gender,counter_gender = predictions_labels_category(test_generator,df_test_fair,\n",
        "                                                          models_labels[best_model_name],models_predictions[best_model_name],\n",
        "                                                          GENDERS,'gender')\n"
      ],
      "metadata": {
        "id": "9-C3A_AcRx5S"
      },
      "execution_count": null,
      "outputs": []
    },
    {
      "cell_type": "code",
      "source": [
        "print(\"OVERALL scores after split\")\n",
        "print(\"Batch size = 64 , learning rate = 0.001\")\n",
        "labels,predictions = models_labels[best_model_name],models_predictions[best_model_name]\n",
        "v_l,v_p,a_l,a_p = valence_arousal(labels,predictions)\n",
        "data = [[\"Correlation\",correlation_mse_mae(v_l,v_p)[0],correlation_mse_mae(a_l,a_p)[0]]]\n",
        "print(tabulate(data, headers=[\" Valence\",\"Arousal\"]))\n",
        "print()\n",
        "results_category_nomse(df_test_fair,'after',RACES,'race',y_true_race,y_pred_race,counter_race)\n",
        "results_category_nomse(df_test_fair,'after',AGES,'age',y_true_age,y_pred_age,counter_age)\n",
        "results_category_nomse(df_test_fair,'after',GENDERS,'gender',y_true_gender,y_pred_gender,counter_gender)\n"
      ],
      "metadata": {
        "colab": {
          "base_uri": "https://localhost:8080/"
        },
        "id": "yItvTj7OSAWE",
        "outputId": "fab91054-a7cc-4111-983b-7bab41b39860"
      },
      "execution_count": null,
      "outputs": [
        {
          "output_type": "stream",
          "name": "stdout",
          "text": [
            "OVERALL scores after split\n",
            "Batch size = 64 , learning rate = 0.001\n",
            "                Valence    Arousal\n",
            "-----------  ----------  ---------\n",
            "Correlation    0.022878   0.143846\n",
            "\n",
            "race scores after split\n",
            "race      #videos    #frames    Correlation    Correlation\n",
            "                                    Valence        Arousal\n",
            "------  ---------  ---------  -------------  -------------\n",
            "White          78       3446      0.0228852      0.152472\n",
            "Black           4        285     -0.0607095      0.0759697\n",
            "Asian           6        329      0.0579511      0.147548\n",
            "Indian          2         51      0             -0.483069\n",
            "\n",
            "age scores after split\n",
            "age      #videos    #frames    Correlation    Correlation\n",
            "                                   Valence        Arousal\n",
            "-----  ---------  ---------  -------------  -------------\n",
            "0-2            1         61    -0.0199196       0.190939\n",
            "3-9            1         77     0.00831462     -0.036848\n",
            "10-19          5        205     0.242293        0.197574\n",
            "20-29         36       1509     0.074419        0.123718\n",
            "30-39         25       1181     0.0120444       0.151183\n",
            "40-49         11        544     0.034689        0.181067\n",
            "50-59          8        356     0.0113406       0.0546177\n",
            "60-69          2        119    -0.0417147      -0.0392172\n",
            "70+            1         59    -0.21004         0.0425279\n",
            "\n",
            "gender scores after split\n",
            "gender      #videos    #frames    Correlation    Correlation\n",
            "                                      Valence        Arousal\n",
            "--------  ---------  ---------  -------------  -------------\n",
            "Male             55       2458    -0.00183094       0.167659\n",
            "Female           35       1653     0.0743381        0.110005\n",
            "\n"
          ]
        }
      ]
    }
  ],
  "metadata": {
    "accelerator": "GPU",
    "colab": {
      "collapsed_sections": [
        "7Gr0uU-y0Fp0",
        "l8cQJVkQOWSj",
        "mLqCIyJyOb_f",
        "TexgL-LIpwLx",
        "aYOFjZexPPNL"
      ],
      "provenance": [],
      "toc_visible": true,
      "include_colab_link": true
    },
    "kernelspec": {
      "display_name": "Python 3",
      "name": "python3"
    },
    "language_info": {
      "name": "python"
    }
  },
  "nbformat": 4,
  "nbformat_minor": 0
}